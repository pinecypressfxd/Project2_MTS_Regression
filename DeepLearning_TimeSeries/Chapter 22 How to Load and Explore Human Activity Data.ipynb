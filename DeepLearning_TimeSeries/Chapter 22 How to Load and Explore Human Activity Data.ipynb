{
 "cells": [
  {
   "cell_type": "markdown",
   "id": "6286e73f",
   "metadata": {},
   "source": [
    "# Chapter 22 How to Load and Explore Human Activity Data"
   ]
  },
  {
   "cell_type": "markdown",
   "id": "19a691bf",
   "metadata": {},
   "source": [
    "After completing this tutorial, you will know:\n",
    "- How to download and load the dataset into memory.\n",
    "- How to use line plots, histograms, and box plots to better understand the structure of the\n",
    "motion data.\n",
    "- How to model the problem, including framing, data preparation, modeling, and evaluation."
   ]
  },
  {
   "cell_type": "markdown",
   "id": "52333682",
   "metadata": {},
   "source": [
    "## 22.1 Tutorial Overview\n",
    "This tutorial is divided into 10 parts; they are:\n",
    "1. Activity Recognition Using Smartphones Dataset \n",
    "2. Download the Dataset\n",
    "3. Load the Dataset\n",
    "4. Balance of Activity Classes\n",
    "5. Plot Time Series Per Subject\n",
    "6. Plot Distribution Per Subject\n",
    "7. Plot Distribution Per Activity\n",
    "8. Plot Distribution of Activity Duration \n",
    "9. Approach to Modeling"
   ]
  },
  {
   "cell_type": "markdown",
   "id": "a4c6f3d8",
   "metadata": {},
   "source": [
    "## 22.2 Activity Recognition Using Smartphones Dataset"
   ]
  },
  {
   "cell_type": "markdown",
   "id": "914615fc",
   "metadata": {},
   "source": [
    "The six activities performed were as follows:\n",
    "1. Walking\n",
    "2. Walking Upstairs\n",
    "3. Walking Downstairs \n",
    "4. Sitting\n",
    "5. Standing\n",
    "6. Laying"
   ]
  },
  {
   "cell_type": "markdown",
   "id": "f757511f",
   "metadata": {},
   "source": [
    "The movement data recorded was the **x, y, and z accelerometer data** (linear acceleration) and **gyroscopic data** (angular velocity) from the smartphone, specifically a Samsung Galaxy S II. Observations were recorded at **50 Hz** (i.e. 50 data points per second). Each subject performed the sequence of activities twice, once with the device on their left-hand-side and once with the device on their right-hand side."
   ]
  },
  {
   "cell_type": "markdown",
   "id": "a43f4289",
   "metadata": {},
   "source": [
    "The raw data is not available. Instead, a pre-processed version of the dataset was made\n",
    "available. The pre-processing steps included:\n",
    "- Pre-processing accelerometer and gyroscope using **noise filters**.（median filter and a 3rd order low-pass Butterworth filter with a 20 Hz cutoff frequency.）\n",
    "- Splitting data into **fixed windows** of 2.56 seconds (128 data points) with **50% overlap**.\n",
    "- Splitting of accelerometer data into gravitational (total) and body motion components."
   ]
  },
  {
   "cell_type": "markdown",
   "id": "085e25e9",
   "metadata": {},
   "source": [
    "## 22.3 Download the Dataset"
   ]
  },
  {
   "cell_type": "markdown",
   "id": "228e2a1e",
   "metadata": {},
   "source": [
    "## 22.4 Load the Dataset"
   ]
  },
  {
   "cell_type": "code",
   "execution_count": 1,
   "id": "1b1a3a6d",
   "metadata": {},
   "outputs": [
    {
     "name": "stdout",
     "output_type": "stream",
     "text": [
      "(7352, 128)\n"
     ]
    }
   ],
   "source": [
    "# load one file from the har dataset\n",
    "from pandas import read_csv\n",
    "# load a single file as a numpy array\n",
    "def load_file(filepath):\n",
    "    dataframe = read_csv(filepath, header=None, delim_whitespace=True)\n",
    "    return dataframe.values\n",
    "data = load_file('HARDataset/train/Inertial Signals/total_acc_y_train.txt')\n",
    "print(data.shape)"
   ]
  },
  {
   "cell_type": "markdown",
   "id": "5f4b0e8d",
   "metadata": {},
   "source": [
    "Ideally, when working with multivariate time series data, it is useful to have the data structured in the format: [samples, timesteps, features]. "
   ]
  },
  {
   "cell_type": "code",
   "execution_count": null,
   "id": "2d0f74ad",
   "metadata": {},
   "outputs": [],
   "source": [
    "# load a list of files, such as x, y, z data for a given variable\n",
    "def load_group(filenames, prefix=''): \n",
    "    loaded = list()\n",
    "    for name in filenames:\n",
    "        data = load_file(prefix + name)\n",
    "        loaded.append(data)\n",
    "    # stack group so that features are the 3rd dimension\n",
    "    loaded = dstack(loaded)\n",
    "    return loaded"
   ]
  },
  {
   "cell_type": "markdown",
   "id": "7b32220f",
   "metadata": {},
   "source": [
    "We can demonstrate this function by loading all of the total acceleration files. The complete example is listed below."
   ]
  },
  {
   "cell_type": "code",
   "execution_count": 6,
   "id": "d18239e6",
   "metadata": {},
   "outputs": [
    {
     "name": "stdout",
     "output_type": "stream",
     "text": [
      "(7352, 128, 9) (7352, 1)\n",
      "(2947, 128, 9) (2947, 1)\n"
     ]
    }
   ],
   "source": [
    "# load group of files from the har dataset\n",
    "from numpy import dstack\n",
    "from pandas import read_csv\n",
    "\n",
    "# load a single file as a numpy array\n",
    "def load_file(filepath):\n",
    "    dataframe = read_csv(filepath, header=None, delim_whitespace=True)\n",
    "    return dataframe.values\n",
    "\n",
    "# load a list of files, such as x, y, z data for a given variable\n",
    "def load_group(filenames, prefix=''): \n",
    "    loaded = list()\n",
    "    for name in filenames:\n",
    "        data = load_file(prefix + name)\n",
    "        loaded.append(data)\n",
    "    # stack group so that features are the 3rd dimension\n",
    "    loaded = dstack(loaded)\n",
    "    return loaded\n",
    "\n",
    "# load a dataset group, such as train or test\n",
    "def load_dataset(group, prefix=''):\n",
    "    filepath = prefix + group + '/Inertial Signals/'\n",
    "    # load all 9 files as a single array\n",
    "    filenames = list()\n",
    "    # total acceleration\n",
    "    filenames += ['total_acc_x_'+group+'.txt', 'total_acc_y_'+group+'.txt',\n",
    "    'total_acc_z_'+group+'.txt']\n",
    "    # body acceleration\n",
    "    filenames += ['body_acc_x_'+group+'.txt', 'body_acc_y_'+group+'.txt',\n",
    "    'body_acc_z_'+group+'.txt']\n",
    "    # body gyroscope\n",
    "    filenames += ['body_gyro_x_'+group+'.txt', 'body_gyro_y_'+group+'.txt',\n",
    "    'body_gyro_z_'+group+'.txt']\n",
    "    # load input data\n",
    "    X = load_group(filenames, filepath)\n",
    "    # load class output\n",
    "    y = load_file(prefix + group + '/y_'+group+'.txt') \n",
    "    return X, y\n",
    "\n",
    "\n",
    "# load all train\n",
    "trainX, trainy = load_dataset('train', 'HARDataset/') \n",
    "print(trainX.shape, trainy.shape)\n",
    "# load all test\n",
    "testX, testy = load_dataset('test', 'HARDataset/') \n",
    "print(testX.shape, testy.shape)"
   ]
  },
  {
   "cell_type": "markdown",
   "id": "bb394ae4",
   "metadata": {},
   "source": [
    "## 22.5 Balance of Activity Classes"
   ]
  },
  {
   "cell_type": "code",
   "execution_count": 8,
   "id": "465fcd94",
   "metadata": {},
   "outputs": [
    {
     "name": "stdout",
     "output_type": "stream",
     "text": [
      "Train Dataset\n",
      "Class=1, total=1226, percentage=16.676\n",
      "Class=2, total=1073, percentage=14.595\n",
      "Class=3, total=986, percentage=13.411\n",
      "Class=4, total=1286, percentage=17.492\n",
      "Class=5, total=1374, percentage=18.689\n",
      "Class=6, total=1407, percentage=19.138\n",
      "Test Dataset\n",
      "Class=1, total=496, percentage=16.831\n",
      "Class=2, total=471, percentage=15.982\n",
      "Class=3, total=420, percentage=14.252\n",
      "Class=4, total=491, percentage=16.661\n",
      "Class=5, total=532, percentage=18.052\n",
      "Class=6, total=537, percentage=18.222\n",
      "Both\n",
      "Class=1, total=1722, percentage=16.720\n",
      "Class=2, total=1544, percentage=14.992\n",
      "Class=3, total=1406, percentage=13.652\n",
      "Class=4, total=1777, percentage=17.254\n",
      "Class=5, total=1906, percentage=18.507\n",
      "Class=6, total=1944, percentage=18.876\n"
     ]
    }
   ],
   "source": [
    "# summarize class balance from the har dataset\n",
    "from numpy import vstack\n",
    "from pandas import read_csv\n",
    "from pandas import DataFrame\n",
    "\n",
    "# load a single file as a numpy array\n",
    "def load_file(filepath):\n",
    "    dataframe = read_csv(filepath, header=None, delim_whitespace=True)\n",
    "    return dataframe.values\n",
    "\n",
    "# summarize the balance of classes in an output variable column\n",
    "def class_breakdown(data):\n",
    "    # convert the numpy array into a dataframe\n",
    "    df = DataFrame(data)\n",
    "    # group data by the class value and calculate the number of rows\n",
    "    counts = df.groupby(0).size()\n",
    "    # retrieve raw rows\n",
    "    counts = counts.values\n",
    "    # summarize\n",
    "    for i in range(len(counts)):\n",
    "        percent = counts[i] / len(df) * 100\n",
    "        print('Class=%d, total=%d, percentage=%.3f' % (i+1, counts[i], percent))\n",
    "\n",
    "if __name__ == '__main__':\n",
    "    # load train file\n",
    "    trainy = load_file('HARDataset/train/y_train.txt') # summarize class breakdown\n",
    "    print('Train Dataset')\n",
    "    class_breakdown(trainy)\n",
    "    # load test file\n",
    "    testy = load_file('HARDataset/test/y_test.txt') # summarize class breakdown\n",
    "    print('Test Dataset')\n",
    "    class_breakdown(testy)\n",
    "    # summarize combined class breakdown\n",
    "    print('Both')\n",
    "    combined = vstack((trainy, testy)) \n",
    "    class_breakdown(combined)"
   ]
  },
  {
   "cell_type": "markdown",
   "id": "9f2813f9",
   "metadata": {},
   "source": [
    "## 22.6 Plot Time Series Per Subject"
   ]
  },
  {
   "cell_type": "code",
   "execution_count": 12,
   "id": "3a04aa1b",
   "metadata": {},
   "outputs": [
    {
     "name": "stdout",
     "output_type": "stream",
     "text": [
      "[ 1  3  5  6  7  8 11 14 15 16 17 19 21 22 23 25 26 27 28 29 30]\n",
      "(302, 128, 9) (302, 1)\n"
     ]
    },
    {
     "data": {
      "image/png": "[encoded data removed]",
      "text/plain": [
       "<Figure size 432x288 with 10 Axes>"
      ]
     },
     "metadata": {
      "needs_background": "light"
     },
     "output_type": "display_data"
    }
   ],
   "source": [
    "# plot all vars for one subject in the har dataset\n",
    "from numpy import dstack\n",
    "from numpy import unique\n",
    "from pandas import read_csv\n",
    "from matplotlib import pyplot\n",
    "\n",
    "# load a single file as a numpy array\n",
    "def load_file(filepath):\n",
    "    dataframe = read_csv(filepath, header=None, delim_whitespace=True)\n",
    "    return dataframe.values\n",
    "\n",
    "# load a list of files, such as x, y, z data for a given variable\n",
    "def load_group(filenames, prefix=''):\n",
    "    loaded = list()\n",
    "    for name in filenames:\n",
    "        data = load_file(prefix + name)\n",
    "        loaded.append(data)\n",
    "    # stack group so that features are the 3rd dimension\n",
    "    loaded = dstack(loaded)\n",
    "    return loaded\n",
    "\n",
    "# load a dataset group, such as train or test\n",
    "def load_dataset(group, prefix=''):\n",
    "    filepath = prefix + group + '/Inertial Signals/'\n",
    "    # load all 9 files as a single array\n",
    "    filenames = list()\n",
    "    # total acceleration\n",
    "    filenames += ['total_acc_x_'+group+'.txt', 'total_acc_y_'+group+'.txt',\n",
    "    'total_acc_z_'+group+'.txt']\n",
    "    # body acceleration\n",
    "    filenames += ['body_acc_x_'+group+'.txt', 'body_acc_y_'+group+'.txt',\n",
    "    'body_acc_z_'+group+'.txt']\n",
    "    # body gyroscope\n",
    "    filenames += ['body_gyro_x_'+group+'.txt', 'body_gyro_y_'+group+'.txt',\n",
    "    'body_gyro_z_'+group+'.txt']\n",
    "    # load input data\n",
    "    X = load_group(filenames, filepath)\n",
    "    # load class output\n",
    "    y = load_file(prefix + group + '/y_'+group+'.txt') \n",
    "    return X, y\n",
    "\n",
    "# get all data for one subject\n",
    "def data_for_subject(X, y, sub_map, sub_id):\n",
    "  # get row indexes for the subject id\n",
    "  ix = [i for i in range(len(sub_map)) if sub_map[i]==sub_id]\n",
    "  # return the selected samples\n",
    "  return X[ix, :, :], y[ix]\n",
    "\n",
    "# convert a series of windows to a 1D list\n",
    "def to_series(windows):\n",
    "    series = list()\n",
    "    for window in windows:\n",
    "        # remove the overlap from the window\n",
    "        half = int(len(window) / 2) - 1\n",
    "        for value in window[-half:]:\n",
    "            series.append(value)\n",
    "    return series\n",
    "\n",
    "# plot the data for one subject\n",
    "def plot_subject(X, y):\n",
    "    pyplot.figure()\n",
    "    # determine the total number of plots\n",
    "    n, off = X.shape[2] + 1, 0\n",
    "    # plot total acc\n",
    "    for i in range(3):\n",
    "        pyplot.subplot(n, 1, off+1)\n",
    "        pyplot.plot(to_series(X[:, :, off]))\n",
    "        pyplot.title('total acc '+str(i), y=0, loc='left', size=7) \n",
    "        # turn off ticks to remove clutter\n",
    "        pyplot.yticks([])\n",
    "        pyplot.xticks([])\n",
    "        off += 1\n",
    "    # plot body acc\n",
    "    for i in range(3):\n",
    "        pyplot.subplot(n, 1, off+1)\n",
    "        pyplot.plot(to_series(X[:, :, off]))\n",
    "        pyplot.title('body acc '+str(i), y=0, loc='left', size=7) \n",
    "        # turn off ticks to remove clutter\n",
    "        pyplot.yticks([])\n",
    "        pyplot.xticks([])\n",
    "        off += 1\n",
    "    # plot body gyro\n",
    "    for i in range(3):\n",
    "        pyplot.subplot(n, 1, off+1)\n",
    "        pyplot.plot(to_series(X[:, :, off]))\n",
    "        pyplot.title('body gyro '+str(i), y=0, loc='left', size=7) \n",
    "        # turn off ticks to remove clutter\n",
    "        pyplot.yticks([])\n",
    "        pyplot.xticks([])\n",
    "        off += 1\n",
    "    # plot activities\n",
    "    pyplot.subplot(n, 1, n)\n",
    "    pyplot.plot(y)\n",
    "    pyplot.title('activity', y=0, loc='left', size=7) \n",
    "    # turn off ticks to remove clutter pyplot.yticks([])\n",
    "    pyplot.xticks([])\n",
    "    pyplot.show()\n",
    "    \n",
    "if __name__ == '__main__':\n",
    "    # load data\n",
    "    trainX, trainy = load_dataset('train', 'HARDataset/')\n",
    "    # load mapping of rows to subjects\n",
    "    sub_map = load_file('HARDataset/train/subject_train.txt') \n",
    "    train_subjects = unique(sub_map)\n",
    "    \n",
    "    print(train_subjects)\n",
    "    # get the data for one subject\n",
    "    sub_id = train_subjects[2]\n",
    "    subX, suby = data_for_subject(trainX, trainy, sub_map, sub_id)\n",
    "    print(subX.shape, suby.shape)\n",
    "    # plot data for subject\n",
    "    plot_subject(subX, suby)"
   ]
  },
  {
   "cell_type": "markdown",
   "id": "24f85055",
   "metadata": {},
   "source": [
    "## 22.7 Plot Distribution Per Subject"
   ]
  },
  {
   "cell_type": "markdown",
   "id": "152cda70",
   "metadata": {},
   "source": [
    "For a given call, a plot is created for each subject and the three variables for one data type are plotted as histograms with 100 bins, to help to make the distribution obvious. Each plot shares the same axis, which is fixed at the bounds of -1 and 1. The complete example is listed below."
   ]
  },
  {
   "cell_type": "code",
   "execution_count": 15,
   "id": "f4adfd67",
   "metadata": {},
   "outputs": [
    {
     "name": "stderr",
     "output_type": "stream",
     "text": [
      "<ipython-input-15-b32002b303ee>:71: MatplotlibDeprecationWarning: Adding an axes using the same arguments as a previous axes currently reuses the earlier instance.  In a future version, a new instance will always be created and returned.  Meanwhile, this warning can be suppressed, and the future behavior ensured, by passing a unique label to each axes instance.\n",
      "  ax = pyplot.subplot(n, 1, k+1)\n"
     ]
    },
    {
     "data": {
      "image/png": "[encoded data removed]",
      "text/plain": [
       "<Figure size 432x288 with 10 Axes>"
      ]
     },
     "metadata": {
      "needs_background": "light"
     },
     "output_type": "display_data"
    },
    {
     "data": {
      "image/png": "[encoded data removed]",
      "text/plain": [
       "<Figure size 432x288 with 10 Axes>"
      ]
     },
     "metadata": {
      "needs_background": "light"
     },
     "output_type": "display_data"
    },
    {
     "data": {
      "image/png": "[encoded data removed]",
      "text/plain": [
       "<Figure size 432x288 with 10 Axes>"
      ]
     },
     "metadata": {
      "needs_background": "light"
     },
     "output_type": "display_data"
    }
   ],
   "source": [
    "# plot histograms for multiple subjects from the har dataset\n",
    "from numpy import unique\n",
    "from numpy import dstack\n",
    "from pandas import read_csv\n",
    "from matplotlib import pyplot\n",
    "\n",
    "# load a single file as a numpy array\n",
    "def load_file(filepath):\n",
    "    dataframe = read_csv(filepath, header=None, delim_whitespace=True)\n",
    "    return dataframe.values\n",
    "\n",
    "# load a list of files, such as x, y, z data for a given variable\n",
    "def load_group(filenames, prefix=''): \n",
    "    loaded = list()\n",
    "    for name in filenames:\n",
    "        data = load_file(prefix + name)\n",
    "        loaded.append(data)\n",
    "    # stack group so that features are the 3rd dimension\n",
    "    loaded = dstack(loaded)\n",
    "    return loaded\n",
    "\n",
    "# load a dataset group, such as train or test\n",
    "def load_dataset(group, prefix=''):\n",
    "    filepath = prefix + group + '/Inertial Signals/'\n",
    "    # load all 9 files as a single array\n",
    "    filenames = list()\n",
    "    # total acceleration\n",
    "    filenames += ['total_acc_x_'+group+'.txt', 'total_acc_y_'+group+'.txt',\n",
    "    'total_acc_z_'+group+'.txt']\n",
    "    # body acceleration\n",
    "    filenames += ['body_acc_x_'+group+'.txt', 'body_acc_y_'+group+'.txt',\n",
    "    'body_acc_z_'+group+'.txt']\n",
    "    # body gyroscope\n",
    "    filenames += ['body_gyro_x_'+group+'.txt', 'body_gyro_y_'+group+'.txt',\n",
    "    'body_gyro_z_'+group+'.txt']\n",
    "    # load input data\n",
    "    X = load_group(filenames, filepath)\n",
    "    # load class output\n",
    "    y = load_file(prefix + group + '/y_'+group+'.txt') \n",
    "    return X, y\n",
    "\n",
    "# get all data for one subject\n",
    "def data_for_subject(X, y, sub_map, sub_id):\n",
    "    # get row indexes for the subject id\n",
    "    ix = [i for i in range(len(sub_map)) if sub_map[i]==sub_id]\n",
    "    # return the selected samples\n",
    "    return X[ix, :, :], y[ix]\n",
    "\n",
    "# convert a series of windows to a 1D list\n",
    "def to_series(windows):\n",
    "    series = list()\n",
    "    for window in windows:\n",
    "        # remove the overlap from the window\n",
    "        half = int(len(window) / 2) - 1\n",
    "        for value in window[-half:]:\n",
    "            series.append(value)\n",
    "    return series\n",
    "\n",
    "# plot histograms for multiple subjects\n",
    "def plot_subject_histograms(X, y, sub_map, offset, n=10):\n",
    "    pyplot.figure()\n",
    "    # get unique subjects\n",
    "    subject_ids = unique(sub_map[:,0])\n",
    "    # enumerate subjects\n",
    "    for k in range(n):\n",
    "        sub_id = subject_ids[k]\n",
    "        # get data for one subject\n",
    "        subX, _ = data_for_subject(X, y, sub_map, sub_id)\n",
    "        # total acc\n",
    "        for i in range(3):\n",
    "            ax = pyplot.subplot(n, 1, k+1)\n",
    "            ax.set_xlim(-1,1)\n",
    "            ax.hist(to_series(subX[:,:,offset+i]), bins=100)\n",
    "            pyplot.yticks([])\n",
    "            pyplot.xticks([-1,0,1])\n",
    "    pyplot.show()\n",
    "\n",
    "if __name__ == '__main__':\n",
    "    # load training dataset\n",
    "    X, y = load_dataset('train', 'HARDataset/')\n",
    "    # load mapping of rows to subjects\n",
    "    sub_map = load_file('HARDataset/train/subject_train.txt') \n",
    "    # plot total acceleration histograms for subjects \n",
    "    plot_subject_histograms(X, y, sub_map, 0)\n",
    "    # plot body acceleration histograms for subjects \n",
    "    plot_subject_histograms(X, y, sub_map, 3)\n",
    "    # plot gyroscopic histograms for subjects \n",
    "    plot_subject_histograms(X, y, sub_map, 6)"
   ]
  },
  {
   "cell_type": "markdown",
   "id": "32ae0bcf",
   "metadata": {},
   "source": [
    "The first figure summarizes the total acceleration. We can see that the distribution for a given axis does appear Gaussian with large separate groups of data. We can see some of the distributions align (e.g. main groups in the middle around 0.0), suggesting there may be some continuity of the movement data across subjects, at least for this data.\n"
   ]
  },
  {
   "cell_type": "markdown",
   "id": "1d7653f5",
   "metadata": {},
   "source": [
    "The second figure shows histograms for the body acceleration with very different results. We can see all data clustered around 0.0 across axis within a subject and across subjects. This suggests that perhaps the data was centered (zero mean). This strong consistency across subjects may aid in modeling, and may suggest that the differences across subjects in the total acceleration data may not be as helpful."
   ]
  },
  {
   "cell_type": "markdown",
   "id": "ba3fed2b",
   "metadata": {},
   "source": [
    "Finally, a figure is generated summarizing the distribution the gyroscopic data for the first 10 subjects. We see a high likelihood of a Gaussian distribution for each axis across each subject centered on 0.0. The distributions are a little wider and show fatter tails, but this is an encouraging finding for modeling movement data across subjects."
   ]
  },
  {
   "cell_type": "markdown",
   "id": "d5307095",
   "metadata": {},
   "source": [
    "## 22.8 Plot Distribution Per Activity"
   ]
  },
  {
   "cell_type": "code",
   "execution_count": 18,
   "id": "d6cea17b",
   "metadata": {},
   "outputs": [
    {
     "name": "stderr",
     "output_type": "stream",
     "text": [
      "<ipython-input-18-6e92c7437eb5>:77: MatplotlibDeprecationWarning: Adding an axes using the same arguments as a previous axes currently reuses the earlier instance.  In a future version, a new instance will always be created and returned.  Meanwhile, this warning can be suppressed, and the future behavior ensured, by passing a unique label to each axes instance.\n",
      "  ax = pyplot.subplot(len(activity_ids), 1, k+1)\n"
     ]
    },
    {
     "data": {
      "image/png": "[encoded data removed]",
      "text/plain": [
       "<Figure size 432x288 with 6 Axes>"
      ]
     },
     "metadata": {
      "needs_background": "light"
     },
     "output_type": "display_data"
    },
    {
     "data": {
      "image/png": "[encoded data removed]",
      "text/plain": [
       "<Figure size 432x288 with 6 Axes>"
      ]
     },
     "metadata": {
      "needs_background": "light"
     },
     "output_type": "display_data"
    },
    {
     "data": {
      "image/png": "[encoded data removed]",
      "text/plain": [
       "<Figure size 432x288 with 6 Axes>"
      ]
     },
     "metadata": {
      "needs_background": "light"
     },
     "output_type": "display_data"
    }
   ],
   "source": [
    "# plot histograms per activity for a subject from the har dataset\n",
    "from numpy import dstack\n",
    "from numpy import unique\n",
    "from pandas import read_csv\n",
    "from matplotlib import pyplot\n",
    "\n",
    "\n",
    "# load a single file as a numpy array\n",
    "def load_file(filepath):\n",
    "    dataframe = read_csv(filepath, header=None, delim_whitespace=True)\n",
    "    return dataframe.values\n",
    "\n",
    "# load a list of files, such as x, y, z data for a given variable\n",
    "def load_group(filenames, prefix=''): \n",
    "    loaded = list()\n",
    "    for name in filenames:\n",
    "        data = load_file(prefix + name)\n",
    "        loaded.append(data)\n",
    "    # stack group so that features are the 3rd dimension\n",
    "    loaded = dstack(loaded)\n",
    "    return loaded\n",
    "\n",
    "# load a dataset group, such as train or test\n",
    "def load_dataset(group, prefix=''):\n",
    "    filepath = prefix + group + '/Inertial Signals/'\n",
    "    # load all 9 files as a single array\n",
    "    filenames = list()\n",
    "    # total acceleration\n",
    "    filenames += ['total_acc_x_'+group+'.txt', 'total_acc_y_'+group+'.txt',\n",
    "    'total_acc_z_'+group+'.txt']\n",
    "    # body acceleration\n",
    "    filenames += ['body_acc_x_'+group+'.txt', 'body_acc_y_'+group+'.txt',\n",
    "    'body_acc_z_'+group+'.txt']\n",
    "    # body gyroscope\n",
    "    filenames += ['body_gyro_x_'+group+'.txt', 'body_gyro_y_'+group+'.txt',\n",
    "    'body_gyro_z_'+group+'.txt']\n",
    "    # load input data\n",
    "    X = load_group(filenames, filepath)\n",
    "    # load class output\n",
    "    y = load_file(prefix + group + '/y_'+group+'.txt') \n",
    "    return X, y\n",
    "\n",
    "# get all data for one subject\n",
    "def data_for_subject(X, y, sub_map, sub_id):\n",
    "    # get row indexes for the subject id\n",
    "    ix = [i for i in range(len(sub_map)) if sub_map[i]==sub_id]\n",
    "    # return the selected samples\n",
    "    return X[ix, :, :], y[ix]\n",
    "\n",
    "# convert a series of windows to a 1D list\n",
    "def to_series(windows):\n",
    "    series = list()\n",
    "    for window in windows:\n",
    "        # remove the overlap from the window\n",
    "        half = int(len(window) / 2) - 1\n",
    "        for value in window[-half:]:\n",
    "            series.append(value)\n",
    "    return series\n",
    "\n",
    "# group data by activity\n",
    "def data_by_activity(X, y, activities):\n",
    "    # group windows by activity\n",
    "    return {a:X[y[:,0]==a, :, :] for a in activities}\n",
    "\n",
    "# plot histograms for each activity for a subject\n",
    "def plot_activity_histograms(X, y, offset):\n",
    "    # get a list of unique activities for the subject\n",
    "    activity_ids = unique(y[:,0])\n",
    "     # group windows by activity\n",
    "    grouped = data_by_activity(X, y, activity_ids)\n",
    "    # plot per activity, histograms for each axis\n",
    "    pyplot.figure()\n",
    "    for k in range(len(activity_ids)):\n",
    "        act_id = activity_ids[k]\n",
    "        # total acceleration\n",
    "        for i in range(3):\n",
    "            ax = pyplot.subplot(len(activity_ids), 1, k+1) \n",
    "            ax.set_xlim(-1,1)\n",
    "            # create histogra, \n",
    "            pyplot.hist(to_series(grouped[act_id][:,:,offset+i]), bins=100) # create title\n",
    "            pyplot.title('activity '+str(act_id), y=0, loc='left', size=10) # simplify axis\n",
    "            pyplot.yticks([])\n",
    "            pyplot.xticks([-1,0,1])\n",
    "    pyplot.show()\n",
    "    \n",
    "if __name__ == '__main__':\n",
    "    # load data\n",
    "    trainX, trainy = load_dataset('train', 'HARDataset/')\n",
    "    # load mapping of rows to subjects\n",
    "    sub_map = load_file('HARDataset/train/subject_train.txt') \n",
    "    train_subjects = unique(sub_map)\n",
    "    # get the data for one subject\n",
    "    sub_id = train_subjects[0]\n",
    "    subX, suby = data_for_subject(trainX, trainy, sub_map, sub_id)\n",
    "    # plot total acceleration histograms per activity for a subject\n",
    "    plot_activity_histograms(subX, suby, 0)\n",
    "    # plot body acceleration histograms per activity for a subject\n",
    "    plot_activity_histograms(subX, suby, 3)\n",
    "    # plot gyroscopic histograms per activity for a subject\n",
    "    plot_activity_histograms(subX, suby, 6)"
   ]
  },
  {
   "cell_type": "markdown",
   "id": "99ecfa1c",
   "metadata": {},
   "source": [
    "Running the example creates three figures, where each figure has with six subplots, one for each activity for the first subject in the train dataset. Each of the x, y, and z axes for the total acceleration data have a blue, orange, and green histogram respectively. \n",
    "\n",
    "In the first figure, can see that each activity has a different data distribution, with a marked difference between the large movement (first three activities) with the stationary activities (last three activities). Data distributions for the first three activities look Gaussian with perhaps differing means and standard deviations. Distributions for the latter activities look multi-modal (i.e. multiple peaks)."
   ]
  },
  {
   "cell_type": "markdown",
   "id": "8af8238e",
   "metadata": {},
   "source": [
    "The second figure summarizes the body acceleration distributions per activity. We can see more similar distributions across the activities amongst the in-motion vs. stationary activities. The data looks bimodal in the case of the in-motion activities and perhaps Gaussian or exponential in the case of the stationary activities. The pattern we see with the total vs. body acceleration distributions by activity mirrors what we see with the same data types across subjects in the previous section. Perhaps the total acceleration data is the key to discriminating the activities."
   ]
  },
  {
   "cell_type": "markdown",
   "id": "ad48d00e",
   "metadata": {},
   "source": [
    "The final figure summarizes the gyroscopic data per activity for the first subject. We can see plots with the similar pattern as the body acceleration data, although showing perhaps fat-tailed Gaussian-like distributions instead of bimodal distributions for the in-motion activities."
   ]
  },
  {
   "cell_type": "markdown",
   "id": "b2f2c8cf",
   "metadata": {},
   "source": [
    "## 22.9 Plot Distribution of Activity Duration"
   ]
  },
  {
   "cell_type": "code",
   "execution_count": 20,
   "id": "ba7f8fc0",
   "metadata": {},
   "outputs": [
    {
     "data": {
      "image/png": "[encoded data removed]",
      "text/plain": [
       "<Figure size 432x288 with 1 Axes>"
      ]
     },
     "metadata": {
      "needs_background": "light"
     },
     "output_type": "display_data"
    }
   ],
   "source": [
    "# plot histograms per activity for a subject from the har dataset\n",
    "from numpy import dstack\n",
    "from numpy import unique\n",
    "from pandas import read_csv\n",
    "from matplotlib import pyplot\n",
    "\n",
    "\n",
    "# load a single file as a numpy array\n",
    "def load_file(filepath):\n",
    "    dataframe = read_csv(filepath, header=None, delim_whitespace=True)\n",
    "    return dataframe.values\n",
    "\n",
    "# load a list of files, such as x, y, z data for a given variable\n",
    "def load_group(filenames, prefix=''): \n",
    "    loaded = list()\n",
    "    for name in filenames:\n",
    "        data = load_file(prefix + name)\n",
    "        loaded.append(data)\n",
    "    # stack group so that features are the 3rd dimension\n",
    "    loaded = dstack(loaded)\n",
    "    return loaded\n",
    "\n",
    "# load a dataset group, such as train or test\n",
    "def load_dataset(group, prefix=''):\n",
    "    filepath = prefix + group + '/Inertial Signals/'\n",
    "    # load all 9 files as a single array\n",
    "    filenames = list()\n",
    "    # total acceleration\n",
    "    filenames += ['total_acc_x_'+group+'.txt', 'total_acc_y_'+group+'.txt',\n",
    "    'total_acc_z_'+group+'.txt']\n",
    "    # body acceleration\n",
    "    filenames += ['body_acc_x_'+group+'.txt', 'body_acc_y_'+group+'.txt',\n",
    "    'body_acc_z_'+group+'.txt']\n",
    "    # body gyroscope\n",
    "    filenames += ['body_gyro_x_'+group+'.txt', 'body_gyro_y_'+group+'.txt',\n",
    "    'body_gyro_z_'+group+'.txt']\n",
    "    # load input data\n",
    "    X = load_group(filenames, filepath)\n",
    "    # load class output\n",
    "    y = load_file(prefix + group + '/y_'+group+'.txt') \n",
    "    return X, y\n",
    "\n",
    "# get all data for one subject\n",
    "def data_for_subject(X, y, sub_map, sub_id):\n",
    "    # get row indexes for the subject id\n",
    "    ix = [i for i in range(len(sub_map)) if sub_map[i]==sub_id]\n",
    "    # return the selected samples\n",
    "    return X[ix, :, :], y[ix]\n",
    "\n",
    "# convert a series of windows to a 1D list\n",
    "def to_series(windows):\n",
    "    series = list()\n",
    "    for window in windows:\n",
    "        # remove the overlap from the window\n",
    "        half = int(len(window) / 2) - 1\n",
    "        for value in window[-half:]:\n",
    "            series.append(value)\n",
    "    return series\n",
    "\n",
    "# group data by activity\n",
    "def data_by_activity(X, y, activities):\n",
    "    # group windows by activity\n",
    "    return {a:X[y[:,0]==a, :, :] for a in activities}\n",
    "\n",
    "# plot activity durations by subject\n",
    "def plot_activity_durations_by_subject(X, y, sub_map):\n",
    "    # get unique subjects and activities\n",
    "    subject_ids = unique(sub_map[:,0])\n",
    "    activity_ids = unique(y[:,0])\n",
    "    # enumerate subjects\n",
    "    activity_windows = {a:list() for a in activity_ids}\n",
    "    for sub_id in subject_ids:\n",
    "        # get data for one subject\n",
    "        _, subj_y = data_for_subject(X, y, sub_map, sub_id)\n",
    "        # count windows by activity\n",
    "        for a in activity_ids:\n",
    "            activity_windows[a].append(len(subj_y[subj_y[:,0]==a]))\n",
    "    # organize durations into a list of lists\n",
    "    durations = [activity_windows[a] for a in activity_ids]\n",
    "    pyplot.boxplot(durations, labels=activity_ids)\n",
    "    pyplot.show()\n",
    "    \n",
    "if __name__ == '__main__':\n",
    "    # load training dataset\n",
    "    X, y = load_dataset('train', 'HARDataset/')\n",
    "    # load mapping of rows to subjects\n",
    "    sub_map = load_file('HARDataset/train/subject_train.txt') # plot durations\n",
    "    plot_activity_durations_by_subject(X, y, sub_map)"
   ]
  },
  {
   "cell_type": "markdown",
   "id": "d19e012d",
   "metadata": {},
   "source": [
    "Running the example creates six box plots, one for each activity. Each box plot summarizes how long (in rows or the number of windows) subjects in the training dataset spent on each activity. We can see that the subjects spent more time on stationary activities (4, 5 and 6) and less time on the in motion activities (1, 2 and 3), with the distribution for 3 being the smallest, or where time was spent least. The spread across the activities is not large, suggesting little need to trim the longer duration activities or oversampling of the in-motion activities. Although, these approaches remain available if skill of a predictive model on the in-motion activities is generally worse."
   ]
  },
  {
   "cell_type": "markdown",
   "id": "73b5e798",
   "metadata": {},
   "source": [
    "## 22.10 Approach to Modeling"
   ]
  },
  {
   "cell_type": "markdown",
   "id": "4723160c",
   "metadata": {},
   "source": [
    "In this section, we summarize some approaches to modeling the activity recognition dataset. These ideas are divided into the main themes of a project."
   ]
  },
  {
   "cell_type": "markdown",
   "id": "390a2bf0",
   "metadata": {},
   "source": [
    "### 22.10.1 Problem Framing"
   ]
  },
  {
   "cell_type": "markdown",
   "id": "89bdbbc4",
   "metadata": {},
   "source": [
    "The first important consideration is the framing of the prediction problem. The framing of the problem as described in the original work is the prediction of activity for a new subject given their movement data, based on the movement data and activities of known subjects. We can summarize this as:\n",
    "- Predict activity given a window of movement data.\n",
    "\n",
    "This is a reasonable and useful framing of the problem. Some other possible ways to frame the provided data as a prediction problem include the following:\n",
    "\n"
   ]
  },
  {
   "cell_type": "markdown",
   "id": "e56e4bc0",
   "metadata": {},
   "source": [
    "- Predict activity given a time step of movement data.\n",
    "- Predict activity given multiple windows of movement data.\n",
    "- Predict the activity sequence given multiple windows of movement data.\n",
    "- Predict activity given a sequence of movement data for a pre-segmented activity.\n",
    "- Predict activity cessation（停止） or transition（过渡） given a time step of movement data.\n",
    "- Predict a stationary or non-stationary activity given a window of movement data.\n",
    "\n",
    "Some of these framings may be too challenging or too easy. Nevertheless, these framings provide additional ways to explore and understand the dataset."
   ]
  },
  {
   "cell_type": "markdown",
   "id": "f8790ca7",
   "metadata": {},
   "source": [
    "### 22.10.2 Data Preparation\n",
    "Some data preparation may be required prior to using the raw data to train a model. The data already appears to have been scaled to the range [-1,1]. Some additional data transforms that could be performed prior to modeling include:\n",
    "- Normalization across subjects. 􏰀 Standardization per subject.\n",
    "- Standardization across subjects. 􏰀 Axis feature selection.\n",
    "- Data type feature selection.\n",
    "- Signal outlier detection and removal.\n",
    "- Removing windows of over-represented activities.\n",
    "- Oversampling windows of under-represented activities.\n",
    "- Downsampling signal data to $\\frac{1}{4}$, $\\frac{1}{2}$ , 1, 2 or other fractions of a section.\n"
   ]
  },
  {
   "cell_type": "markdown",
   "id": "a78c3cf7",
   "metadata": {},
   "source": [
    "### 22.10.3 Predictive Modeling"
   ]
  },
  {
   "cell_type": "markdown",
   "id": "4effa09f",
   "metadata": {},
   "source": [
    "Generally, the problem is a time series multiclass classification problem. As we have seen, it may also be framed as a binary classification problem and a multi-step time series classification problem. The original paper explored the use of a classical machine learning algorithm on a version of the dataset where features were engineered from each window of data. Specifically, a modified support vector machine.\n",
    "\n",
    "The results of an SVM on the feature-engineered version of the dataset may provide a baseline in performance on the problem. Expanding from this point, the evaluation of multiple linear, nonlinear, and ensemble machine learning algorithms on this version of the dataset may provide an improved benchmark. The focus of the problem may be on the un-engineered or raw version of the dataset. Here, a progression in model complexity may be explored in order to determine the most suitable model for the problem; some candidate models to explore include:"
   ]
  },
  {
   "cell_type": "markdown",
   "id": "a521740c",
   "metadata": {},
   "source": [
    "- Common linear, nonlinear, and ensemble machine learning algorithms. \n",
    "- Multilayer Perceptron.\n",
    "- Convolutional neural networks, specifically 1D CNNs.\n",
    "- Recurrent neural networks, specifically LSTMs.\n",
    "- Hybrids of CNNs and LSTMs such as the CNN-LSTM and the ConvLSTM."
   ]
  },
  {
   "cell_type": "markdown",
   "id": "abe4016a",
   "metadata": {},
   "source": [
    "## 22.11 Model Evaluation"
   ]
  },
  {
   "cell_type": "markdown",
   "id": "8fc780da",
   "metadata": {},
   "source": [
    "The evaluation of the model in the original paper involved using a train/test split of the data by subject with a 70% and 30% ratio. Exploration of this pre-defined split of the data suggests that both sets are reasonably representative of the whole dataset. Another alternative methodology may be to use leave-one-out cross-validation, or LOOCV, per subject. In addition to giving the data for each subject the opportunity for being used as the withheld test set, the approach would provide a population of 30 scores that can be averaged and summarized, which may offer a more robust result.\n",
    "\n",
    "Model performance was presented using classification accuracy and a confusion matrix, both of which are suitable for the multiclass nature of the prediction problem. Specifically, the confusion matrix will aid in determining whether some classes are easier or more challenging to predict than others, such as those for stationary activities versus those activities that involve motion."
   ]
  },
  {
   "cell_type": "markdown",
   "id": "68460ded",
   "metadata": {},
   "source": [
    "## 22.12 Extensions\n",
    "This section lists some ideas for extending the tutorial that you may wish to explore.\n",
    "- List Intuitions. Outline the method that you believe may be most effective in making forecasts with on this dataset.\n",
    "- Apply Taxonomy. Use the taxonomy in Chapter 2 to describe the dataset presented in this chapter.\n",
    "- Additional Analysis. Use summary statistics and/or plots to explore one more aspect of the dataset that may provide insight into modeling this problem.\n"
   ]
  },
  {
   "cell_type": "code",
   "execution_count": null,
   "id": "8e0a5d7f",
   "metadata": {},
   "outputs": [],
   "source": []
  }
 ],
 "metadata": {
  "kernelspec": {
   "display_name": "Python 3",
   "language": "python",
   "name": "python3"
  },
  "language_info": {
   "codemirror_mode": {
    "name": "ipython",
    "version": 3
   },
   "file_extension": ".py",
   "mimetype": "text/x-python",
   "name": "python",
   "nbconvert_exporter": "python",
   "pygments_lexer": "ipython3",
   "version": "3.8.8"
  }
 },
 "nbformat": 4,
 "nbformat_minor": 5
}
