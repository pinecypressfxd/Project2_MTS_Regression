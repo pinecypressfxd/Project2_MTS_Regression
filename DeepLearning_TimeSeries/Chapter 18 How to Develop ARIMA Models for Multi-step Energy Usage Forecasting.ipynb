{
 "cells": [
  {
   "cell_type": "markdown",
   "id": "78c68793",
   "metadata": {},
   "source": [
    "# Chapter 18 How to Develop ARIMA Models for Multi-step Energy Usage Forecasting"
   ]
  },
  {
   "cell_type": "markdown",
   "id": "dba334cf",
   "metadata": {},
   "source": [
    "In this tutorial, you will discover how to develop and evaluate an autoregression model for multi-step forecasting household power consumption. After completing this tutorial, you will know:\n",
    "- How to create and analyze autocorrelation and partial autocorrelation plots for univariate time series data.\n",
    "- How to use the findings from autocorrelation plots to configure an autoregression model.\n",
    "- How to develop and evaluate an autocorrelation model used to make one-week forecasts.\n",
    "\n",
    "Let’s get started."
   ]
  },
  {
   "cell_type": "markdown",
   "id": "c619ffe8",
   "metadata": {},
   "source": [
    "# 18.1 Tutorial Overview\n",
    "This tutorial is divided into five parts; they are:\n",
    "1. Problem Description\n",
    "2. Load and Prepare Dataset\n",
    "3. Model Evaluation\n",
    "4. Autocorrelation Analysis\n",
    "5. Develop an Autoregressive Model"
   ]
  },
  {
   "cell_type": "markdown",
   "id": "3e3df797",
   "metadata": {},
   "source": [
    "## 18.2 Problem Description"
   ]
  },
  {
   "cell_type": "markdown",
   "id": "c5c4f933",
   "metadata": {},
   "source": [
    "The *Household Power Consumption dataset* is a multivariate time series dataset that describes the electricity consumption for a single household over four years."
   ]
  },
  {
   "cell_type": "markdown",
   "id": "aec710e0",
   "metadata": {},
   "source": [
    "The data was collected between December 2006 and November 2010 and observations of power consumption within the household were collected every minute. It is a multivariate series comprised of seven variables\n",
    "(besides the date and time); they are:\n",
    "- global active power: The total active power consumed by the household (kilowatts).\n",
    "- global reactive power: The total reactive power consumed by the household (kilowatts). \n",
    "- voltage: Average voltage (volts).\n",
    "- global intensity: Average current intensity (amps).\n",
    "- sub metering 1: Active energy for kitchen (watt-hours of active energy).\n",
    "- sub metering 2: Active energy for laundry (watt-hours of active energy).\n",
    "- sub metering 3: Active energy for climate control systems (watt-hours of active energy)."
   ]
  },
  {
   "cell_type": "markdown",
   "id": "4205c998",
   "metadata": {},
   "source": [
    "## 18.3 Load and Prepare Dataset"
   ]
  },
  {
   "cell_type": "markdown",
   "id": "d26333aa",
   "metadata": {},
   "source": [
    "**In the interest of brevity**, refer to Chapter 17 for the details."
   ]
  },
  {
   "cell_type": "markdown",
   "id": "0456bf78",
   "metadata": {},
   "source": [
    "## 18.4 Model Evaluation"
   ]
  },
  {
   "cell_type": "markdown",
   "id": "1d0708c9",
   "metadata": {},
   "source": [
    "**In the interest of brevity**, refer to Chapter 18 for the details."
   ]
  },
  {
   "cell_type": "markdown",
   "id": "a89c01b3",
   "metadata": {},
   "source": [
    "## 18.5 Autocorrelation Analysis"
   ]
  },
  {
   "cell_type": "markdown",
   "id": "5957b864",
   "metadata": {},
   "source": [
    "Statistical correlation summarizes the strength of the relationship between two variables. We can assume the distribution of each variable fits a Gaussian (bell curve) distribution. If this is the case, we can use the Pearson’s correlation coefficient to summarize the correlation between the variables. The Pearson’s correlation coefficient is a number between -1 and 1 that describes a negative or positive correlation respectively. A value of zero indicates no correlation.\n",
    "\n",
    "统计相关性总结了两个变量之间关系的强度。我们可以假设每个变量的分布拟合高斯（钟形曲线）分布。如果是这种情况，我们可以使用皮尔逊相关系数来总结变量之间的相关性。皮尔逊相关系数是介于 -1 和 1 之间的数字，分别描述负相关或正相关。值为零表示没有相关性。"
   ]
  },
  {
   "cell_type": "markdown",
   "id": "978d9071",
   "metadata": {},
   "source": [
    "We can calculate the correlation for time series observations with observations with previous time steps, called lags. Because the correlation of the time series observations is calculated with values of the same series at previous times, this is called a serial correlation, or an **autocorrelation**."
   ]
  },
  {
   "cell_type": "markdown",
   "id": "e9c0b7ed",
   "metadata": {},
   "source": [
    "A plot of the autocorrelation of a time series by lag is called the AutoCorrelation Function."
   ]
  },
  {
   "cell_type": "markdown",
   "id": "582b6dff",
   "metadata": {},
   "source": [
    "A partial autocorrelation function or PACF is a summary of the relationship between an observation in a time series with observations at prior time steps with the relationships of intervening observations removed.偏自相关函数或 PACF 是时间序列中的观测值与先前时间步长的观测值与移除的干预观测值之间的关系的汇总。"
   ]
  },
  {
   "cell_type": "markdown",
   "id": "52408403",
   "metadata": {},
   "source": [
    "The autocorrelation for an observation and an observation at a prior time step is comprised of both the direct correlation and indirect correlations. These indirect correlations are a linear function of the correlation of the observation, with observations at intervening time steps. It is these indirect correlations that the partial autocorrelation function seeks to remove. Without going into the math, this is the intuition for the partial autocorrelation. We can calculate auto- correlation and partial autocorrelation plots using the plot acf() and plot pacf() Statsmodels functions respectively.观测值和先前时间步长的观测值的自相关由直接相关和间接相关组成。这些间接相关性是观测值相关性的线性函数，观测值处于中间时间步长。偏自相关函数试图消除的正是这些间接相关性。在不进行数学计算的情况下，这是偏自相关的直觉。我们可以分别使用 acf（） 和 pacf（） 统计模型函数计算自相关和部分自相关图。"
   ]
  },
  {
   "cell_type": "markdown",
   "id": "d5f19f85",
   "metadata": {},
   "source": [
    "In order to calculate and plot the autocorrelation, we must convert the data into a univariate time series. Specifically, the observed daily total power consumed. The to series() function below will take the multivariate data divided into weekly windows and will return a single univariate time series.为了计算和绘制自相关，我们必须将数据转换为单变量时间序列。具体而言，观察到的每日总功耗。下面的 to series（） 函数将把多变量数据分成每周窗口，并返回单个单变量时间序列。"
   ]
  },
  {
   "cell_type": "markdown",
   "id": "beaa2ab1",
   "metadata": {},
   "source": [
    "PAC（Partical Autocorrelation Coefficient 偏自相关系数）：同自相关系数大同小异，在计算相关性时移除了中间变量的间接影响。\n",
    "\n",
    "PACF（Partial Autocorrelation Function偏自相关函数）：偏自相关系数构成的序列。\n"
   ]
  },
  {
   "cell_type": "code",
   "execution_count": 2,
   "id": "81fff967",
   "metadata": {},
   "outputs": [
    {
     "data": {
      "image/png": "[encoded data removed]",
      "text/plain": [
       "<Figure size 432x288 with 2 Axes>"
      ]
     },
     "metadata": {
      "needs_background": "light"
     },
     "output_type": "display_data"
    }
   ],
   "source": [
    "# acf and pacf plots of total power usage\n",
    "from numpy import split\n",
    "from numpy import array\n",
    "from pandas import read_csv\n",
    "from matplotlib import pyplot\n",
    "from statsmodels.graphics.tsaplots import plot_acf\n",
    "from statsmodels.graphics.tsaplots import plot_pacf\n",
    "\n",
    "# split a univariate dataset into train/test sets\n",
    "def split_dataset(data):\n",
    "    # split into standard weeks\n",
    "    train, test = data[1:-328], data[-328:-6]\n",
    "    # restructure into windows of weekly data\n",
    "    train = array(split(train, len(train)/7))\n",
    "    test = array(split(test, len(test)/7))\n",
    "    return train, test\n",
    "\n",
    "# convert windows of weekly multivariate data into a series of total power\n",
    "def to_series(data):\n",
    "    # extract just the total power from each week\n",
    "    series = [week[:, 0] for week in data]\n",
    "    # flatten into a single series\n",
    "    series = array(series).flatten()\n",
    "    return series\n",
    "\n",
    "# load the new file\n",
    "dataset = read_csv('household_power_consumption_days.csv', header=0, infer_datetime_format=True, parse_dates=['datetime'], index_col=['datetime'])\n",
    "# split into train and test\n",
    "train, test = split_dataset(dataset.values)\n",
    "# convert training data into a series\n",
    "series = to_series(train)\n",
    "# plots\n",
    "pyplot.figure()\n",
    "lags = 365\n",
    "# acf\n",
    "axis = pyplot.subplot(2, 1, 1)\n",
    "plot_acf(series, ax=axis, lags=lags)\n",
    "# pacf\n",
    "axis = pyplot.subplot(2, 1, 2)\n",
    "plot_pacf(series, ax=axis, lags=lags)\n",
    "# show plot\n",
    "pyplot.show()"
   ]
  },
  {
   "cell_type": "code",
   "execution_count": 3,
   "id": "5a27687d",
   "metadata": {
    "scrolled": true
   },
   "outputs": [
    {
     "data": {
      "image/png": "[encoded data removed]",
      "text/plain": [
       "<Figure size 432x288 with 2 Axes>"
      ]
     },
     "metadata": {
      "needs_background": "light"
     },
     "output_type": "display_data"
    }
   ],
   "source": [
    "# acf and pacf plots of total power usage\n",
    "from numpy import split\n",
    "from numpy import array\n",
    "from pandas import read_csv\n",
    "from matplotlib import pyplot\n",
    "from statsmodels.graphics.tsaplots import plot_acf\n",
    "from statsmodels.graphics.tsaplots import plot_pacf\n",
    "\n",
    "# split a univariate dataset into train/test sets\n",
    "def split_dataset(data):\n",
    "    # split into standard weeks\n",
    "    train, test = data[1:-328], data[-328:-6]\n",
    "    # restructure into windows of weekly data\n",
    "    train = array(split(train, len(train)/7))\n",
    "    test = array(split(test, len(test)/7))\n",
    "    return train, test\n",
    "\n",
    "# convert windows of weekly multivariate data into a series of total power\n",
    "def to_series(data):\n",
    "    # extract just the total power from each week\n",
    "    series = [week[:, 0] for week in data]\n",
    "    # flatten into a single series\n",
    "    series = array(series).flatten()\n",
    "    return series\n",
    "\n",
    "# load the new file\n",
    "dataset = read_csv('household_power_consumption_days.csv', header=0, infer_datetime_format=True, parse_dates=['datetime'], index_col=['datetime'])\n",
    "# split into train and test\n",
    "train, test = split_dataset(dataset.values)\n",
    "# convert training data into a series\n",
    "series = to_series(train)\n",
    "# plots\n",
    "pyplot.figure()\n",
    "lags = 50\n",
    "# acf\n",
    "axis = pyplot.subplot(2, 1, 1)\n",
    "plot_acf(series, ax=axis, lags=lags)\n",
    "# pacf\n",
    "axis = pyplot.subplot(2, 1, 2)\n",
    "plot_pacf(series, ax=axis, lags=lags)\n",
    "# show plot\n",
    "pyplot.show()"
   ]
  },
  {
   "cell_type": "markdown",
   "id": "1a5d2524",
   "metadata": {},
   "source": [
    "The ACF plot indicates that there is a strong autocorrelation component, whereas the PACF plot indicates that this component is distinct for the first approximately seven lag observations. This suggests that a good starting model would be an AR(7); that is an autoregression model with seven lag observations used as input. ACF 图表示存在强自相关分量，而 PACF 图表示该分量对于前大约七个滞后观测值是不同的。这表明一个好的起始模型是 AR（7）;这是一个自回归模型，其中七个滞后观测值用作输入。"
   ]
  },
  {
   "cell_type": "markdown",
   "id": "49699301",
   "metadata": {},
   "source": [
    "## 18.6 Develop an Autoregressive Model"
   ]
  },
  {
   "cell_type": "markdown",
   "id": "f3a5008f",
   "metadata": {},
   "source": [
    "For more information on autoregressive models see Chapter 5. The Statsmodels library provides multiple ways of developing an AR model, such as using the **AR, ARMA, ARIMA, and SARIMAX** classes."
   ]
  },
  {
   "cell_type": "code",
   "execution_count": 6,
   "id": "32d793a4",
   "metadata": {},
   "outputs": [
    {
     "name": "stderr",
     "output_type": "stream",
     "text": [
      "/Users/fengxuedong/opt/anaconda3/lib/python3.8/site-packages/statsmodels/tsa/arima_model.py:472: FutureWarning: \n",
      "statsmodels.tsa.arima_model.ARMA and statsmodels.tsa.arima_model.ARIMA have\n",
      "been deprecated in favor of statsmodels.tsa.arima.model.ARIMA (note the .\n",
      "between arima and model) and\n",
      "statsmodels.tsa.SARIMAX. These will be removed after the 0.12 release.\n",
      "\n",
      "statsmodels.tsa.arima.model.ARIMA makes use of the statespace framework and\n",
      "is both well tested and maintained.\n",
      "\n",
      "To silence this warning and continue using ARMA and ARIMA until they are\n",
      "removed, use:\n",
      "\n",
      "import warnings\n",
      "warnings.filterwarnings('ignore', 'statsmodels.tsa.arima_model.ARMA',\n",
      "                        FutureWarning)\n",
      "warnings.filterwarnings('ignore', 'statsmodels.tsa.arima_model.ARIMA',\n",
      "                        FutureWarning)\n",
      "\n",
      "  warnings.warn(ARIMA_DEPRECATION_WARN, FutureWarning)\n"
     ]
    },
    {
     "name": "stdout",
     "output_type": "stream",
     "text": [
      "arima: [381.604] 393.8, 398.9, 357.0, 377.1, 393.8, 306.0, 432.2\n"
     ]
    },
    {
     "data": {
      "image/png": "[encoded data removed]",
      "text/plain": [
       "<Figure size 432x288 with 1 Axes>"
      ]
     },
     "metadata": {
      "needs_background": "light"
     },
     "output_type": "display_data"
    }
   ],
   "source": [
    "# arima forecast for the power usage dataset\n",
    "from math import sqrt\n",
    "from numpy import split\n",
    "from numpy import array\n",
    "from pandas import read_csv\n",
    "from sklearn.metrics import mean_squared_error\n",
    "from matplotlib import pyplot\n",
    "from statsmodels.tsa.arima_model import ARIMA\n",
    "\n",
    "# split a univariate dataset into train/test sets\n",
    "def split_dataset(data):\n",
    "    # split into standard weeks\n",
    "    train, test = data[1:-328], data[-328:-6]\n",
    "    # restructure into windows of weekly data\n",
    "    train = array(split(train, len(train)/7))\n",
    "    test = array(split(test, len(test)/7))\n",
    "    return train, test\n",
    "\n",
    "# evaluate one or more weekly forecasts against expected values\n",
    "def evaluate_forecasts(actual, predicted):\n",
    "    scores = list()\n",
    "    # calculate an RMSE score for each day\n",
    "    for i in range(actual.shape[1]):\n",
    "        # calculate mse\n",
    "        mse = mean_squared_error(actual[:, i], predicted[:, i])\n",
    "        # calculate rmse\n",
    "        rmse = sqrt(mse)\n",
    "        # store\n",
    "        scores.append(rmse)\n",
    "    \n",
    "    # calculate overall RMSE\n",
    "    s=0\n",
    "    for row in range(actual.shape[0]):\n",
    "        for col in range(actual.shape[1]):\n",
    "            s += (actual[row, col] - predicted[row, col])**2\n",
    "    score = sqrt(s / (actual.shape[0] * actual.shape[1]))\n",
    "    return score, scores\n",
    "\n",
    "# summarize scores\n",
    "def summarize_scores(name, score, scores):\n",
    "    s_scores = ', '.join(['%.1f' % s for s in scores]) \n",
    "    print('%s: [%.3f] %s' % (name, score, s_scores))\n",
    "\n",
    "# evaluate a single model\n",
    "def evaluate_model(model_func, train, test):\n",
    "    # history is a list of weekly data\n",
    "    history = [x for x in train]\n",
    "    # walk-forward validation over each week\n",
    "    predictions = list()\n",
    "    for i in range(len(test)):\n",
    "        # predict the week\n",
    "        yhat_sequence = model_func(history)\n",
    "        # store the predictions\n",
    "        predictions.append(yhat_sequence)\n",
    "        # get real observation and add to history for predicting the next week\n",
    "        history.append(test[i, :])\n",
    "    predictions = array(predictions)\n",
    "    # evaluate predictions days for each week\n",
    "    score, scores = evaluate_forecasts(test[:, :, 0], predictions)\n",
    "    return score, scores\n",
    "# convert windows of weekly multivariate data into a series of total power\n",
    "def to_series(data):\n",
    "    # extract just the total power from each week\n",
    "    series = [week[:, 0] for week in data]\n",
    "    # flatten into a single series\n",
    "    series = array(series).flatten()\n",
    "    return series\n",
    "\n",
    "# arima forecast\n",
    "def arima_forecast(history):\n",
    "    # convert history into a univariate series\n",
    "    series = to_series(history)\n",
    "    # define the model\n",
    "    model = ARIMA(series, order=(7,0,0))\n",
    "    # fit the model\n",
    "    model_fit = model.fit(disp=False)\n",
    "    # make forecast\n",
    "    yhat = model_fit.predict(len(series), len(series)+6)\n",
    "    return yhat\n",
    "\n",
    "if __name__ == '__main__':\n",
    "    # load the new file\n",
    "    dataset = read_csv('household_power_consumption_days.csv', header=0, infer_datetime_format=True, parse_dates=['datetime'], index_col=['datetime'])\n",
    "    # split into train and test\n",
    "    train, test = split_dataset(dataset.values)\n",
    "    # define the names and functions for the models we wish to evaluate\n",
    "    models = dict()\n",
    "    models['arima'] = arima_forecast\n",
    "    # evaluate each model\n",
    "    days = ['sun', 'mon', 'tue', 'wed', 'thr', 'fri', 'sat'] \n",
    "    for name, func in models.items():\n",
    "        # evaluate and get scores\n",
    "        score, scores = evaluate_model(func, train, test)\n",
    "        # summarize scores\n",
    "        summarize_scores(name, score, scores)\n",
    "        # plot scores\n",
    "        pyplot.plot(days, scores, marker='o', label=name) # show plot\n",
    "    pyplot.legend()\n",
    "    pyplot.show()"
   ]
  },
  {
   "cell_type": "code",
   "execution_count": 7,
   "id": "cef9e4ab",
   "metadata": {},
   "outputs": [
    {
     "data": {
      "text/plain": [
       "dict_items([('arima', <function arima_forecast at 0x7fddec6b11f0>)])"
      ]
     },
     "execution_count": 7,
     "metadata": {},
     "output_type": "execute_result"
    }
   ],
   "source": [
    "models.items()"
   ]
  },
  {
   "cell_type": "markdown",
   "id": "7b22d531",
   "metadata": {},
   "source": [
    "A line plot of the forecast is also created, showing the RMSE in kilowatts for each of the seven lead times of the forecast. We can see an interesting pattern. We might expect that earlier lead times are easier to forecast than later lead times, as the error at each successive lead time compounds. Instead, we see that Friday (lead time +6) is the easiest to forecast and Saturday (lead time +7) is the most challenging to forecast. We can also see that the remaining lead times all have a similar error in the mid- to high-300 kilowatt range.\n"
   ]
  },
  {
   "cell_type": "markdown",
   "id": "e0db553a",
   "metadata": {},
   "source": [
    "还创建了预测的折线图，显示预测的七个提前期中每个时间的RMSE（以千瓦为单位）。我们可以看到一个有趣的模式。我们可能认为较早的提前期比较晚的提前期更容易预测，因为每个连续的提前期的误差都会加剧。相反，我们看到周五（提前期 +6）最容易预测，周六（提前期 +7）最难预测。我们还可以看到，剩余的交货时间在中高300千瓦范围内都有类似的误差。\n"
   ]
  },
  {
   "cell_type": "markdown",
   "id": "46a644b4",
   "metadata": {},
   "source": [
    "Extensions\n",
    "This section lists some ideas for extending the tutorial that you may wish to explore.\n",
    "- **Tune ARIMA**. The parameters of the ARIMA model were not tuned. Explore or search a suite of ARIMA parameters (q, d, p) to see if performance can be further improved.\n",
    "- **Explore Seasonal AR**. Explore whether the performance of the AR model can be improved by including seasonal autoregression elements. This may require the use of a SARIMA model.\n",
    "- **Explore ETS**. Explore whether better results may be achieved by using an ETS model\n",
    "instead of an ARIMA model.\n",
    "- **Explore Data Preparation**. The model was fit on the raw data directly. Explore whether standardization or normalization or even power transforms can further improve the skill of the AR model."
   ]
  },
  {
   "cell_type": "markdown",
   "id": "74bac7b3",
   "metadata": {},
   "source": [
    "## 18.9 Summary\n",
    "In this tutorial, you discovered how to develop and evaluate an autoregression model for multi-step forecasting household power consumption. Specifically, you learned:\n",
    "- How to create and analyze autocorrelation and partial autocorrelation plots for univariate time series data.\n",
    "- How to use the findings from autocorrelation plots to configure an autoregression model.\n",
    "- How to develop and evaluate an autocorrelation model used to make one-week forecasts.\n"
   ]
  },
  {
   "cell_type": "code",
   "execution_count": null,
   "id": "d3662e4c",
   "metadata": {},
   "outputs": [],
   "source": []
  }
 ],
 "metadata": {
  "kernelspec": {
   "display_name": "Python 3",
   "language": "python",
   "name": "python3"
  },
  "language_info": {
   "codemirror_mode": {
    "name": "ipython",
    "version": 3
   },
   "file_extension": ".py",
   "mimetype": "text/x-python",
   "name": "python",
   "nbconvert_exporter": "python",
   "pygments_lexer": "ipython3",
   "version": "3.8.8"
  }
 },
 "nbformat": 4,
 "nbformat_minor": 5
}
