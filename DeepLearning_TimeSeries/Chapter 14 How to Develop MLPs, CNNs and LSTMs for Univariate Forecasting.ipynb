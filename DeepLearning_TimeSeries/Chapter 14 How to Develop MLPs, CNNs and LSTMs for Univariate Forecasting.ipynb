{
 "cells": [
  {
   "cell_type": "markdown",
   "id": "c1f6657d",
   "metadata": {},
   "source": [
    "# Chapter 14 How to Develop MLPs, CNNs and LSTMs for Univariate Forecasting"
   ]
  },
  {
   "cell_type": "markdown",
   "id": "da68347a",
   "metadata": {},
   "source": [
    "In this tutorial, you will discover how to develop a suite of deep learning models for univariate time series forecasting. After completing this tutorial, you will know:\n",
    "- How to develop a robust test harness using walk-forward validation for evaluating the performance of neural network models.\n",
    "- How to develop and evaluate simple Multilayer Perceptron and convolutional neural networks for time series forecasting.\n",
    "- How to develop and evaluate LSTMs, CNN-LSTMs, and ConvLSTM neural network models for time series forecasting."
   ]
  },
  {
   "cell_type": "markdown",
   "id": "dfa53235",
   "metadata": {},
   "source": [
    "## 14.1 Tutorial Overview"
   ]
  },
  {
   "cell_type": "markdown",
   "id": "c4b7d7a1",
   "metadata": {},
   "source": [
    "This tutorial is divided into five parts; they are: \n",
    "1. Time Series Problem\n",
    "2. Model Evaluation Test Harness\n",
    "3. Multilayer Perceptron Model\n",
    "4. Convolutional Neural Network Model \n",
    "5. Recurrent Neural Network Models"
   ]
  },
  {
   "cell_type": "markdown",
   "id": "62d3c34e",
   "metadata": {},
   "source": [
    "## 14.2 Time Series Problem"
   ]
  },
  {
   "cell_type": "markdown",
   "id": "a9a707d2",
   "metadata": {},
   "source": [
    "In this tutorial we will focus on one dataset and use it as the context to demonstrate the development of a range of deep learning models for univariate time series forecasting. We will use the monthly car sales dataset as this context as it includes the complexity of both trend and seasonal elements."
   ]
  },
  {
   "cell_type": "markdown",
   "id": "99bf91cb",
   "metadata": {},
   "source": [
    "The performance of the naive model provides a lower bound on a model that is considered skillful. Any model that achieves a predictive performance of lower than 1,841.15 on the last 12 months has skill. The performance of the SARIMA model provides a measure of a good model on the problem. Any model that achieves a predictive performance lower than 1,551.84 on the last 12 months should be adopted over a SARIMA model. Now that we have defined our problem and expectations of model skill, we can look at defining the test harness."
   ]
  },
  {
   "cell_type": "markdown",
   "id": "845f4135",
   "metadata": {},
   "source": [
    "朴素模型的性能为被认为是熟练的模型提供了下限。任何在过去 12 个月内实现低于 1,841.15 的预测性能的模型都具有技能。SARIMA模型的性能提供了衡量该问题的良好模型的指标。任何在过去 12 个月内实现低于 1,551.84 的预测性能的模型都应采用 SARIMA 模型。现在我们已经定义了模型技能的问题和期望，我们可以看看定义测试工具。"
   ]
  },
  {
   "cell_type": "markdown",
   "id": "0b5d300c",
   "metadata": {},
   "source": [
    "## 14.3 Model Evaluation Test Harness模型评价测试工具"
   ]
  },
  {
   "cell_type": "markdown",
   "id": "ba08e4c9",
   "metadata": {},
   "source": [
    "This section is divided into the following parts:\n",
    "1. Train-Test Split\n",
    "2. Series as Supervised Learning\n",
    "3. Walk-Forward Validation\n",
    "4. Repeat Evaluation\n",
    "5. Summarize Performance \n",
    "6. Worked Example"
   ]
  },
  {
   "cell_type": "markdown",
   "id": "e4ca01a2",
   "metadata": {},
   "source": [
    "### 14.3.1 Train-Test Split"
   ]
  },
  {
   "cell_type": "code",
   "execution_count": 1,
   "id": "450dad14",
   "metadata": {},
   "outputs": [],
   "source": [
    "# split a univariate dataset into train/test sets\n",
    "def train_test_split(data, n_test):\n",
    "    return data[:-n_test], data[-n_test:]"
   ]
  },
  {
   "cell_type": "markdown",
   "id": "214a3b9d",
   "metadata": {},
   "source": [
    "### 14.3.2 Series as Supervised Learning"
   ]
  },
  {
   "cell_type": "code",
   "execution_count": null,
   "id": "3b24ed32",
   "metadata": {},
   "outputs": [],
   "source": [
    "# (t-1), (t) Nan, 1\n",
    "# 1, 2\n",
    "# 2, 3\n",
    "# 3, 4\n",
    "# 4, NaN"
   ]
  },
  {
   "cell_type": "code",
   "execution_count": 2,
   "id": "a80164ae",
   "metadata": {},
   "outputs": [],
   "source": [
    "# transform list into supervised learning format\n",
    "def series_to_supervised(data, n_in, n_out=1):\n",
    "    df = DataFrame(data)\n",
    "    cols = list()\n",
    "    # input sequence (t-n, ... t-1)\n",
    "    for i in range(n_in, 0, -1):\n",
    "        cols.append(df.shift(i))\n",
    "    # forecast sequence (t, t+1, ... t+n)\n",
    "    for i in range(0, n_out):\n",
    "        cols.append(df.shift(-i))\n",
    "    # put it all together\n",
    "    agg = concat(cols, axis=1)\n",
    "    # drop rows with NaN values\n",
    "    agg.dropna(inplace=True)\n",
    "    return agg.values"
   ]
  },
  {
   "cell_type": "markdown",
   "id": "f6aa03e7",
   "metadata": {},
   "source": [
    "### 14.3.3 Walk-Forward Validation"
   ]
  },
  {
   "cell_type": "markdown",
   "id": "5541f507",
   "metadata": {},
   "source": [
    "Time series forecasting models can be evaluated on a test set using walk-forward validation. Walk-forward validation is an approach where the model makes a forecast for each observation in the test dataset one at a time. After each forecast is made for a time step in the test dataset, the true observation for the forecast is added to the test dataset and made available to the model. Simpler models can be refit with the observation prior to making the subsequent prediction. More complex models, such as neural networks, are not refit given the much greater computational cost. Nevertheless, the true observation for the time step can then be used as part of the input for making the prediction on the next time step."
   ]
  },
  {
   "cell_type": "markdown",
   "id": "1ccb89b7",
   "metadata": {},
   "source": [
    "可以使用前行验证在测试集上评估时序预测模型。前行验证是一种方法，其中模型对测试数据集中的每个观测值进行预测，一次预测一个。在对测试数据集中的某个时间步长进行每个预测后，预测的真实观测值将添加到测试数据集中，并可供模型使用。在进行后续预测之前，可以使用观测结果对更简单的模型进行修改。更复杂的模型，如神经网络，没有被改装，因为计算成本要高得多。尽管如此，时间步长的真实观测值可以用作对下一个时间步进行预测的输入的一部分。"
   ]
  },
  {
   "cell_type": "code",
   "execution_count": 3,
   "id": "f6b84cd0",
   "metadata": {},
   "outputs": [],
   "source": [
    "# fit a model\n",
    "def model_fit(train, config):\n",
    "    return None"
   ]
  },
  {
   "cell_type": "code",
   "execution_count": 4,
   "id": "83ab64ea",
   "metadata": {},
   "outputs": [],
   "source": [
    "# forecast with a pre-fit model\n",
    "def model_predict(model, history, config):\n",
    "    return 0.0"
   ]
  },
  {
   "cell_type": "code",
   "execution_count": 5,
   "id": "bcaa63dc",
   "metadata": {},
   "outputs": [],
   "source": [
    "# root mean squared error or rmse\n",
    "def measure_rmse(actual, predicted):\n",
    "    return sqrt(mean_squared_error(actual, predicted))"
   ]
  },
  {
   "cell_type": "code",
   "execution_count": 7,
   "id": "52c9636e",
   "metadata": {},
   "outputs": [],
   "source": [
    "# walk-forward validation for univariate data\n",
    "def walk_forward_validation(data, n_test, cfg):\n",
    "    predictions = list()\n",
    "    # split dataset\n",
    "    train, test = train_test_split(data, n_test)\n",
    "    # fit model\n",
    "    model = model_fit(train, cfg)\n",
    "    # seed history with training dataset\n",
    "    history = [x for x in train]\n",
    "    # step over each time step in the test set\n",
    "    for i in range(len(test)):\n",
    "        # fit model and make forecast for history\n",
    "        yhat = model_predict(model, history, cfg)\n",
    "        # store forecast in list of predictions\n",
    "        predictions.append(yhat)\n",
    "        # add actual observation to history for the next loop\n",
    "        history.append(test[i])\n",
    "    # estimate prediction error\n",
    "    error = measure_rmse(test, predictions) \n",
    "    print(' > %.3f' % error)\n",
    "    return error"
   ]
  },
  {
   "cell_type": "markdown",
   "id": "54730240",
   "metadata": {},
   "source": [
    "### 14.3.4 Repeat Evaluation"
   ]
  },
  {
   "cell_type": "markdown",
   "id": "8e21ca6c",
   "metadata": {},
   "source": [
    "Neural network models are stochastic. This means that, given the same model configuration and the same training dataset, a different internal set of weights will result each time the model is trained that will in turn have a different performance. This is a benefit, allowing the model to be adaptive and find high performing configurations to complex problems. It is also a problem when evaluating the performance of a model and in choosing a final model to use to make predictions.\n",
    "\n",
    "To address model evaluation, we will evaluate a model configuration multiple times via walk-forward validation and report the error as the average error across each evaluation. This is not always possible for large neural networks and may only make sense for small networks that can be fit in minutes or hours. The repeat evaluate() function below implements this and allows the number of repeats to be specified as an optional parameter that defaults to 30 and returns a list of model performance scores: in this case, RMSE values."
   ]
  },
  {
   "cell_type": "markdown",
   "id": "862b5e29",
   "metadata": {},
   "source": [
    "神经网络模型是随机的。这意味着，给定相同的模型配置和相同的训练数据集，每次训练模型时都会产生不同的内部权重集，而这些权重反过来又具有不同的性能。这是一个好处，允许模型具有适应性，并为复杂问题找到高性能配置。在评估模型的性能和选择要用于进行预测的最终模型时，这也是一个问题。\n",
    "\n",
    "为了解决模型评估问题，我们将通过前行验证多次评估模型配置，并将错误报告为每次评估的平均误差。对于大型神经网络来说，这并不总是可行的，并且可能只对可以在几分钟或几小时内适应的小型网络有意义。下面的 repeat evaluate（） 函数实现了这一点，并允许将重复次数指定为默认为 30 的可选参数，并返回模型性能分数列表：在本例中为 RMSE 值。"
   ]
  },
  {
   "cell_type": "code",
   "execution_count": 8,
   "id": "e498b585",
   "metadata": {},
   "outputs": [],
   "source": [
    "# repeat evaluation of a config\n",
    "def repeat_evaluate(data, config, n_test, n_repeats=30):\n",
    "    # fit and evaluate the model n times\n",
    "    scores = [walk_forward_validation(data, n_test, config) for _ in range(n_repeats)]\n",
    "    return scores"
   ]
  },
  {
   "cell_type": "markdown",
   "id": "2992aefa",
   "metadata": {},
   "source": [
    "### 14.3.5 Summarize Performance"
   ]
  },
  {
   "cell_type": "markdown",
   "id": "84339810",
   "metadata": {},
   "source": [
    "Finally, we need to summarize the performance of a model from the multiple repeats. We will summarize the performance first using summary statistics, specifically the mean and the standard deviation. We will also plot the distribution of model performance scores using a box and whisker plot to help get an idea of the spread of performance. The summarize scores() function below implements this, taking the name of the model that was evaluated and the list of scores from each repeated evaluation, printing the summary and showing a plot."
   ]
  },
  {
   "cell_type": "markdown",
   "id": "1f1854c5",
   "metadata": {},
   "source": [
    "最后，我们需要从多次重复中总结模型的性能。我们将首先使用汇总统计数据来总结性能，特别是平均值和标准差。我们还将使用箱形图绘制模型性能分数的分布图，以帮助了解性能的分布。下面的 summary scores（） 函数实现了这一点，它采用被评估模型的名称和每次重复评估的分数列表，打印摘要并显示绘图。"
   ]
  },
  {
   "cell_type": "code",
   "execution_count": 9,
   "id": "01d364ba",
   "metadata": {},
   "outputs": [],
   "source": [
    "# summarize model performance\n",
    "def summarize_scores(name, scores):\n",
    "    # print a summary\n",
    "    scores_m, score_std = mean(scores), std(scores)\n",
    "    print('%s: %.3f RMSE (+/- %.3f)' % (name, scores_m, score_std)) \n",
    "    # box and whisker plot\n",
    "    pyplot.boxplot(scores)\n",
    "    pyplot.show()"
   ]
  },
  {
   "cell_type": "markdown",
   "id": "18acb432",
   "metadata": {},
   "source": [
    "### 14.3.6 Worked Example"
   ]
  },
  {
   "cell_type": "code",
   "execution_count": 12,
   "id": "029451d8",
   "metadata": {},
   "outputs": [
    {
     "name": "stdout",
     "output_type": "stream",
     "text": [
      " > 1841.156\n",
      " > 1841.156\n",
      " > 1841.156\n",
      " > 1841.156\n",
      " > 1841.156\n",
      " > 1841.156\n",
      " > 1841.156\n",
      " > 1841.156\n",
      " > 1841.156\n",
      " > 1841.156\n",
      " > 1841.156\n",
      " > 1841.156\n",
      " > 1841.156\n",
      " > 1841.156\n",
      " > 1841.156\n",
      " > 1841.156\n",
      " > 1841.156\n",
      " > 1841.156\n",
      " > 1841.156\n",
      " > 1841.156\n",
      " > 1841.156\n",
      " > 1841.156\n",
      " > 1841.156\n",
      " > 1841.156\n",
      " > 1841.156\n",
      " > 1841.156\n",
      " > 1841.156\n",
      " > 1841.156\n",
      " > 1841.156\n",
      " > 1841.156\n",
      "persistence: 1841.156 RMSE (+/- 0.000)\n"
     ]
    },
    {
     "data": {
      "image/png": "[encoded data removed]",
      "text/plain": [
       "<Figure size 432x288 with 1 Axes>"
      ]
     },
     "metadata": {
      "needs_background": "light"
     },
     "output_type": "display_data"
    }
   ],
   "source": [
    "# persistence forecast for monthly car sales dataset\n",
    "from math import sqrt\n",
    "from numpy import median\n",
    "from numpy import mean\n",
    "from numpy import std\n",
    "from pandas import read_csv\n",
    "from sklearn.metrics import mean_squared_error\n",
    "from matplotlib import pyplot\n",
    "\n",
    "# split a univariate dataset into train/test sets\n",
    "def train_test_split(data, n_test):\n",
    "    return data[:-n_test], data[-n_test:]\n",
    "\n",
    "# root mean squared error or rmse\n",
    "def measure_rmse(actual, predicted):\n",
    "    return sqrt(mean_squared_error(actual, predicted))\n",
    "\n",
    "# difference dataset\n",
    "def difference(data, interval):\n",
    "    return [data[i] - data[i - interval] for i in range(interval, len(data))]\n",
    "\n",
    "# fit a model\n",
    "def model_fit(train, config):\n",
    "    return None\n",
    "\n",
    "# forecast with a pre-fit model\n",
    "def model_predict(model, history, config):\n",
    "    values = list()\n",
    "    for offset in config:\n",
    "        values.append(history[-offset])\n",
    "    return median(values)\n",
    "\n",
    "# walk-forward validation for univariate data\n",
    "def walk_forward_validation(data, n_test, cfg):\n",
    "    predictions = list()\n",
    "    # split dataset\n",
    "    train, test = train_test_split(data, n_test)\n",
    "    # fit model\n",
    "    model = model_fit(train, cfg)\n",
    "    # seed history with training dataset\n",
    "    history = [x for x in train]\n",
    "    # step over each time-step in the test set\n",
    "    for i in range(len(test)):\n",
    "        # fit model and make forecast for history\n",
    "        yhat = model_predict(model, history, cfg)\n",
    "        # store forecast in list of predictions\n",
    "        predictions.append(yhat)\n",
    "        # add actual observation to history for the next loop\n",
    "        history.append(test[i])\n",
    "    # estimate prediction error\n",
    "    error = measure_rmse(test, predictions) \n",
    "    print(' > %.3f' % error)\n",
    "    return error\n",
    "\n",
    "# repeat evaluation of a config\n",
    "def repeat_evaluate(data, config, n_test, n_repeats=30):\n",
    "    # fit and evaluate the model n times\n",
    "    scores = [walk_forward_validation(data, n_test, config) for _ in range(n_repeats)]\n",
    "    return scores\n",
    "# summarize model performance\n",
    "def summarize_scores(name, scores):\n",
    "    # print a summary\n",
    "    scores_m, score_std = mean(scores), std(scores)\n",
    "    print('%s: %.3f RMSE (+/- %.3f)' % (name, scores_m, score_std)) \n",
    "    # box and whisker plot\n",
    "    pyplot.boxplot(scores)\n",
    "    pyplot.show()\n",
    "    \n",
    "series = read_csv('monthly-car-sales.csv', header=0, index_col=0) \n",
    "data = series.values\n",
    "# data split\n",
    "n_test = 12\n",
    "# define config\n",
    "config = [12, 24, 36]\n",
    "# grid search\n",
    "scores = repeat_evaluate(data, config, n_test)\n",
    "# summarize scores\n",
    "summarize_scores('persistence', scores)"
   ]
  },
  {
   "cell_type": "markdown",
   "id": "e97cf344",
   "metadata": {},
   "source": [
    "## 14.4 Multilayer Perceptron Model"
   ]
  },
  {
   "cell_type": "markdown",
   "id": "8054fb26",
   "metadata": {},
   "source": [
    "MLPs can be used for time series forecasting by taking multiple observations at prior time steps, called lag observations, and using them as input features and predicting one or more time steps from those observations. This is exactly the framing of the problem provided by the series to supervised() function in the previous section. The training dataset is therefore a list of samples, where each sample has some number of observations from months prior to the time being forecasted, and the forecast is the next month in the sequence."
   ]
  },
  {
   "cell_type": "markdown",
   "id": "5befa4a5",
   "metadata": {},
   "source": [
    "MLP 可用于时间序列预测，方法是在先前的时间步长中获取多个观测值（称为滞后观测值），并将其用作输入特征并从这些观测值中预测一个或多个时间步长。这正是上一节中该系列为 supervised（） 函数提供的问题的框架。因此，训练数据集是一个样本列表，其中每个样本都有预测时间之前的几个月的一定数量的观测值，并且预测是序列中的下一个月。"
   ]
  },
  {
   "attachments": {
    "image.png": {
     "image/png": "[encoded data removed]"
    }
   },
   "cell_type": "markdown",
   "id": "ad2725e7",
   "metadata": {},
   "source": [
    "![image.png](attachment:image.png)"
   ]
  },
  {
   "cell_type": "code",
   "execution_count": null,
   "id": "f9f13698",
   "metadata": {},
   "outputs": [],
   "source": [
    "# define model\n",
    "model = Sequential()\n",
    "model.add(Dense(n_nodes, activation='relu', input_dim=n_input))\n",
    "model.add(Dense(1))\n",
    "model.compile(loss='mse', optimizer='adam')"
   ]
  },
  {
   "cell_type": "markdown",
   "id": "963f16ef",
   "metadata": {},
   "source": [
    "The model will be fit for some number of training epochs (exposures to the training data) and batch size can be specified to define how often the weights are updated within each epoch. The model fit() function for fitting an MLP model on the training dataset is listed below. The function expects the config to be a list with the following configuration hyperparameters:\n",
    "- n input: The number of lag observations to use as input to the model.\n",
    "- n nodes: The number of nodes to use in the hidden layer.\n",
    "- n epochs: The number of times to expose the model to the whole training dataset.\n",
    "- n batch: The number of samples within an epoch after which the weights are updated."
   ]
  },
  {
   "cell_type": "code",
   "execution_count": null,
   "id": "3322793a",
   "metadata": {},
   "outputs": [],
   "source": [
    "# fit a model\n",
    "def model_fit(train, config):\n",
    "    # unpack config\n",
    "    n_input, n_nodes, n_epochs, n_batch = config\n",
    "    # prepare data\n",
    "    data = series_to_supervised(train, n_input)\n",
    "    train_x, train_y = data[:, :-1], data[:, -1]\n",
    "    # define model\n",
    "    model = Sequential()\n",
    "    model.add(Dense(n_nodes, activation='relu', input_dim=n_input)) \n",
    "    model.add(Dense(1))\n",
    "    model.compile(loss='mse', optimizer='adam')\n",
    "    # fit\n",
    "    model.fit(train_x, train_y, epochs=n_epochs, batch_size=n_batch, verbose=0) \n",
    "    return model"
   ]
  },
  {
   "cell_type": "code",
   "execution_count": null,
   "id": "a2a5855a",
   "metadata": {},
   "outputs": [],
   "source": [
    "# forecast with a pre-fit model\n",
    "def model_predict(model, history, config):\n",
    "    # unpack config\n",
    "    n_input, _, _, _ = config\n",
    "    # prepare data\n",
    "    x_input = array(history[-n_input:]).reshape(1, n_input)\n",
    "    # forecast\n",
    "    yhat = model.predict(x_input, verbose=0)\n",
    "    return yhat[0]"
   ]
  },
  {
   "cell_type": "markdown",
   "id": "a151839c",
   "metadata": {},
   "source": [
    "- n input: 24 (e.g. 24 months) \n",
    "- n nodes: 500\n",
    "- n epochs: 100\n",
    "- n batch: 100\n",
    "\n",
    "This configuration can be defined as a list:"
   ]
  },
  {
   "cell_type": "code",
   "execution_count": null,
   "id": "c676cf1b",
   "metadata": {},
   "outputs": [],
   "source": [
    "# define config\n",
    "config = [24, 500, 100, 100]"
   ]
  },
  {
   "cell_type": "code",
   "execution_count": 17,
   "id": "64118eda",
   "metadata": {},
   "outputs": [
    {
     "name": "stdout",
     "output_type": "stream",
     "text": [
      " > 1629.281\n",
      " > 1343.343\n",
      " > 1665.148\n",
      " > 1583.563\n",
      " > 1719.636\n",
      " > 1602.476\n",
      " > 1502.571\n",
      " > 1772.431\n",
      " > 1394.605\n",
      " > 1429.118\n",
      " > 1594.083\n",
      " > 1558.578\n",
      " > 1435.953\n",
      " > 1685.626\n",
      " > 1672.595\n",
      " > 1617.624\n",
      " > 1799.536\n",
      " > 1430.426\n",
      " > 1503.072\n",
      " > 1286.273\n",
      " > 1460.818\n",
      " > 1492.245\n",
      " > 1569.725\n",
      " > 1544.049\n",
      " > 1574.214\n",
      " > 1420.438\n",
      " > 1764.990\n",
      " > 1378.805\n",
      " > 1327.286\n",
      " > 1718.018\n",
      "mlp: 1549.217 RMSE (+/- 137.739)\n"
     ]
    },
    {
     "data": {
      "image/png": "[encoded data removed]",
      "text/plain": [
       "<Figure size 432x288 with 1 Axes>"
      ]
     },
     "metadata": {
      "needs_background": "light"
     },
     "output_type": "display_data"
    }
   ],
   "source": [
    "# evaluate mlp for monthly car sales dataset\n",
    "from math import sqrt\n",
    "from numpy import array\n",
    "from numpy import mean\n",
    "from numpy import std\n",
    "from pandas import DataFrame\n",
    "from pandas import concat\n",
    "from pandas import read_csv\n",
    "from sklearn.metrics import mean_squared_error\n",
    "from keras.models import Sequential\n",
    "from keras.layers import Dense\n",
    "from matplotlib import pyplot\n",
    "\n",
    "# split a univariate dataset into train/test sets\n",
    "def train_test_split(data, n_test):\n",
    "    return data[:-n_test], data[-n_test:]\n",
    "\n",
    "# transform list into supervised learning format\n",
    "def series_to_supervised(data, n_in, n_out=1):\n",
    "    df = DataFrame(data)\n",
    "    cols = list()\n",
    "    # input sequence (t-n, ... t-1)\n",
    "    for i in range(n_in, 0, -1):\n",
    "        cols.append(df.shift(i))\n",
    "    # forecast sequence (t, t+1, ... t+n)\n",
    "    for i in range(0, n_out):\n",
    "        cols.append(df.shift(-i))\n",
    "    # put it all together\n",
    "    agg = concat(cols, axis=1)\n",
    "    # drop rows with NaN values\n",
    "    agg.dropna(inplace=True)\n",
    "    return agg.values\n",
    "\n",
    "# root mean squared error or rmse\n",
    "def measure_rmse(actual, predicted):\n",
    "    return sqrt(mean_squared_error(actual, predicted))\n",
    "\n",
    "# fit a model\n",
    "def model_fit(train, config):\n",
    "    # unpack config\n",
    "    n_input, n_nodes, n_epochs, n_batch = config\n",
    "    # prepare data\n",
    "    data = series_to_supervised(train, n_input)\n",
    "    train_x, train_y = data[:, :-1], data[:, -1]\n",
    "    # define model\n",
    "    model = Sequential()\n",
    "    model.add(Dense(n_nodes, activation='relu', input_dim=n_input)) \n",
    "    model.add(Dense(1))\n",
    "    model.compile(loss='mse', optimizer='adam')\n",
    "    # fit\n",
    "    model.fit(train_x, train_y, epochs=n_epochs, batch_size=n_batch, verbose=0) \n",
    "    return model\n",
    "\n",
    "# forecast with a pre-fit model\n",
    "def model_predict(model, history, config):\n",
    "    # unpack config\n",
    "    n_input, _, _, _ = config\n",
    "    # prepare data\n",
    "    x_input = array(history[-n_input:]).reshape(1, n_input)\n",
    "    # forecast\n",
    "    yhat = model.predict(x_input, verbose=0)\n",
    "    return yhat[0]\n",
    "\n",
    "# walk-forward validation for univariate data\n",
    "def walk_forward_validation(data, n_test, cfg):\n",
    "    predictions = list()\n",
    "    # split dataset\n",
    "    train, test = train_test_split(data, n_test)\n",
    "    # fit model\n",
    "    model = model_fit(train, cfg)\n",
    "    # seed history with training dataset\n",
    "    history = [x for x in train]\n",
    "    # step over each time-step in the test set\n",
    "    for i in range(len(test)):\n",
    "        # fit model and make forecast for history\n",
    "        yhat = model_predict(model, history, cfg)\n",
    "        # store forecast in list of predictions\n",
    "        predictions.append(yhat)\n",
    "        # add actual observation to history for the next loop\n",
    "        history.append(test[i])\n",
    "    # estimate prediction error\n",
    "    error = measure_rmse(test, predictions) \n",
    "    print(' > %.3f' % error)\n",
    "    return error\n",
    "\n",
    "# repeat evaluation of a config\n",
    "def repeat_evaluate(data, config, n_test, n_repeats=30):\n",
    "    # fit and evaluate the model n times\n",
    "    scores = [walk_forward_validation(data, n_test, config) for _ in range(n_repeats)]\n",
    "    return scores\n",
    "\n",
    "# summarize model performance\n",
    "def summarize_scores(name, scores):\n",
    "    # print a summary\n",
    "    scores_m, score_std = mean(scores), std(scores)\n",
    "    print('%s: %.3f RMSE (+/- %.3f)' % (name, scores_m, score_std)) # box and whisker plot\n",
    "    pyplot.boxplot(scores)\n",
    "    pyplot.show()\n",
    "    \n",
    "    \n",
    "series = read_csv('monthly-car-sales.csv', header=0, index_col=0) \n",
    "data = series.values\n",
    "# data split\n",
    "n_test = 12\n",
    "# define config\n",
    "config = [24, 500, 100, 100]\n",
    "# grid search\n",
    "scores = repeat_evaluate(data, config, n_test)\n",
    "# summarize scores\n",
    "summarize_scores('mlp', scores)"
   ]
  },
  {
   "cell_type": "markdown",
   "id": "f5259f96",
   "metadata": {},
   "source": [
    "## 14.5 Convolutional Neural Network Model"
   ]
  },
  {
   "cell_type": "code",
   "execution_count": 21,
   "id": "3f0b6280",
   "metadata": {},
   "outputs": [
    {
     "name": "stdout",
     "output_type": "stream",
     "text": [
      " > 1451.538\n",
      " > 1486.384\n",
      " > 1442.719\n",
      " > 1557.635\n",
      " > 1498.819\n",
      " > 1452.701\n",
      " > 1530.966\n",
      " > 1626.774\n",
      " > 1558.660\n",
      " > 1527.186\n",
      " > 1538.004\n",
      " > 1497.427\n",
      " > 1568.837\n",
      " > 1568.099\n",
      " > 1604.038\n",
      " > 1546.766\n",
      " > 1479.981\n",
      " > 1488.818\n",
      " > 1761.407\n",
      " > 1567.610\n",
      " > 1676.750\n",
      " > 1659.802\n",
      " > 1591.545\n",
      " > 1529.322\n",
      " > 1537.797\n",
      " > 1533.257\n",
      " > 1535.060\n",
      " > 1537.240\n",
      " > 1537.177\n",
      " > 1760.616\n",
      "cnn: 1555.098 RMSE (+/- 77.299)\n"
     ]
    },
    {
     "data": {
      "image/png": "[encoded data removed]",
      "text/plain": [
       "<Figure size 432x288 with 1 Axes>"
      ]
     },
     "metadata": {
      "needs_background": "light"
     },
     "output_type": "display_data"
    }
   ],
   "source": [
    "# evaluate mlp for monthly car sales dataset\n",
    "from math import sqrt\n",
    "from numpy import array\n",
    "from numpy import mean\n",
    "from numpy import std\n",
    "from pandas import DataFrame\n",
    "from pandas import concat\n",
    "from pandas import read_csv\n",
    "from sklearn.metrics import mean_squared_error\n",
    "from keras.models import Sequential\n",
    "from keras.layers import Dense\n",
    "from keras.layers import Flatten\n",
    "from keras.layers.convolutional import Conv1D\n",
    "from keras.layers.convolutional import MaxPooling1D\n",
    "from matplotlib import pyplot\n",
    "\n",
    "# split a univariate dataset into train/test sets\n",
    "def train_test_split(data, n_test):\n",
    "    return data[:-n_test], data[-n_test:]\n",
    "\n",
    "# transform list into supervised learning format\n",
    "def series_to_supervised(data, n_in, n_out=1):\n",
    "    df = DataFrame(data)\n",
    "    cols = list()\n",
    "    # input sequence (t-n, ... t-1)\n",
    "    for i in range(n_in, 0, -1):\n",
    "        cols.append(df.shift(i))\n",
    "    # forecast sequence (t, t+1, ... t+n)\n",
    "    for i in range(0, n_out):\n",
    "        cols.append(df.shift(-i))\n",
    "    # put it all together\n",
    "    agg = concat(cols, axis=1)\n",
    "    # drop rows with NaN values\n",
    "    agg.dropna(inplace=True)\n",
    "    return agg.values\n",
    "\n",
    "# root mean squared error or rmse\n",
    "def measure_rmse(actual, predicted):\n",
    "    return sqrt(mean_squared_error(actual, predicted))\n",
    "\n",
    "# fit a model\n",
    "def model_fit(train, config):\n",
    "    # unpack config\n",
    "    n_input, n_filters, n_kernel, n_epochs, n_batch = config\n",
    "    # prepare data\n",
    "    data = series_to_supervised(train, n_input)\n",
    "    train_x, train_y = data[:, :-1], data[:, -1]\n",
    "    train_x = train_x.reshape((train_x.shape[0], train_x.shape[1], 1))\n",
    "    # define model\n",
    "    model = Sequential()\n",
    "    model.add(Conv1D(n_filters, n_kernel, activation='relu', input_shape=(n_input, 1)))\n",
    "    model.add(Conv1D(n_filters, n_kernel, activation='relu'))\n",
    "    model.add(MaxPooling1D())\n",
    "    model.add(Flatten())\n",
    "    model.add(Dense(1))\n",
    "    model.compile(loss='mse', optimizer='adam')\n",
    "    # fit\n",
    "    model.fit(train_x, train_y, epochs=n_epochs, batch_size=n_batch, verbose=0)\n",
    "    return model\n",
    "\n",
    "\n",
    "# forecast with a pre-fit model\n",
    "def model_predict(model, history, config):\n",
    "    # unpack config\n",
    "    n_input, _, _, _, _ = config\n",
    "    # prepare data\n",
    "    x_input = array(history[-n_input:]).reshape((1, n_input, 1))\n",
    "    # forecast\n",
    "    yhat = model.predict(x_input, verbose=0)\n",
    "    return yhat[0]\n",
    "\n",
    "# walk-forward validation for univariate data\n",
    "def walk_forward_validation(data, n_test, cfg):\n",
    "    predictions = list()\n",
    "    # split dataset\n",
    "    train, test = train_test_split(data, n_test)\n",
    "    # fit model\n",
    "    model = model_fit(train, cfg)\n",
    "    # seed history with training dataset\n",
    "    history = [x for x in train]\n",
    "    # step over each time-step in the test set\n",
    "    for i in range(len(test)):\n",
    "        # fit model and make forecast for history\n",
    "        yhat = model_predict(model, history, cfg)\n",
    "        # store forecast in list of predictions\n",
    "        predictions.append(yhat)\n",
    "        # add actual observation to history for the next loop\n",
    "        history.append(test[i])\n",
    "    # estimate prediction error\n",
    "    error = measure_rmse(test, predictions) \n",
    "    print(' > %.3f' % error)\n",
    "    return error\n",
    "\n",
    "# repeat evaluation of a config\n",
    "def repeat_evaluate(data, config, n_test, n_repeats=30):\n",
    "    # fit and evaluate the model n times\n",
    "    scores = [walk_forward_validation(data, n_test, config) for _ in range(n_repeats)]\n",
    "    return scores\n",
    "\n",
    "# summarize model performance\n",
    "def summarize_scores(name, scores):\n",
    "    # print a summary\n",
    "    scores_m, score_std = mean(scores), std(scores)\n",
    "    print('%s: %.3f RMSE (+/- %.3f)' % (name, scores_m, score_std)) # box and whisker plot\n",
    "    pyplot.boxplot(scores)\n",
    "    pyplot.show()\n",
    "     \n",
    "series = read_csv('monthly-car-sales.csv', header=0, index_col=0) \n",
    "data = series.values\n",
    "# data split\n",
    "n_test = 12\n",
    "# define config\n",
    "config = [36, 256, 3, 100, 100]\n",
    "# grid search\n",
    "scores = repeat_evaluate(data, config, n_test)\n",
    "# summarize scores\n",
    "summarize_scores('cnn', scores)"
   ]
  },
  {
   "cell_type": "markdown",
   "id": "8a1ebd58",
   "metadata": {},
   "source": [
    "## 14.6 Recurrent Neural Network Models"
   ]
  },
  {
   "cell_type": "markdown",
   "id": "6fb409f9",
   "metadata": {},
   "source": [
    "Recurrent neural networks, or RNNs, are those types of neural networks that use an output of the network from a prior step as an input in attempt to automatically learn across sequence data. The Long Short-Term Memory, or LSTM, network is a type of RNN whose implementation addresses the general difficulties in training RNNs on sequence data that results in a stable model. It achieves this by learning the weights for internal gates that control the recurrent connections within each node. Although developed for sequence data, LSTMs have not proven effective on time series forecasting problems where the output is a function of recent observations, e.g. an autoregressive type forecasting problem, such as the car sales dataset. Nevertheless, we can develop LSTM models for autoregressive problems and use them as a point of comparison with other neural network models."
   ]
  },
  {
   "cell_type": "markdown",
   "id": "dc0c5e01",
   "metadata": {},
   "source": [
    "递归神经网络 （RNN） 是那些使用前一步的网络输出作为输入以尝试自动学习序列数据的神经网络类型。长短期记忆（LSTM）网络是一种RNN，其实现解决了在序列数据上训练RNN的一般困难，从而产生稳定的模型。它通过学习控制每个节点内循环连接的内部门的权重来实现这一点。尽管 LSTM 是为序列数据开发的，但在时间序列预测问题上尚未证明有效，其中输出是最近观测值的函数，例如自回归类型预测问题，例如汽车销售数据集。尽管如此，我们可以为自回归问题开发 LSTM 模型，并将其用作与其他神经网络模型的比较点。"
   ]
  },
  {
   "cell_type": "markdown",
   "id": "3dbc856a",
   "metadata": {},
   "source": [
    "- Vanilla LSTM: The LSTM network as-is.\n",
    "- CNN-LSTM: A CNN network that learns input features and an LSTM that interprets\n",
    "them.\n",
    "- ConvLSTM: A combination of CNNs and LSTMs where the LSTM units read input data using the convolutional process of a CNN."
   ]
  },
  {
   "cell_type": "markdown",
   "id": "af158470",
   "metadata": {},
   "source": [
    "- 香草LSTM：LSTM网络原样。\n",
    "- CNN-LSTM：学习输入特征的CNN网络和解释输入特征的LSTM他们。\n",
    "- ConvLSTM：CNN和LSTM的组合，其中LSTM单元使用CNN的卷积过程读取输入数据"
   ]
  },
  {
   "cell_type": "markdown",
   "id": "e3578c8b",
   "metadata": {},
   "source": [
    "### 14.6.1 LSTM"
   ]
  },
  {
   "cell_type": "code",
   "execution_count": 22,
   "id": "51197e3d",
   "metadata": {},
   "outputs": [],
   "source": [
    "# forecast with a pre-fit model\n",
    "def model_predict(model, history, config):\n",
    "    # unpack config\n",
    "    n_input, _, _, _, n_diff = config\n",
    "    # prepare data\n",
    "    correction = 0.0\n",
    "    if n_diff > 0:\n",
    "        correction = history[-n_diff]\n",
    "        history = difference(history, n_diff)\n",
    "    x_input = array(history[-n_input:]).reshape((1, n_input, 1))\n",
    "    # forecast\n",
    "    yhat = model.predict(x_input, verbose=0)\n",
    "    return correction + yhat[0]"
   ]
  },
  {
   "cell_type": "markdown",
   "id": "c22cf7c2",
   "metadata": {},
   "source": [
    "Model hyperparameters were chosen with a little trial and error and are listed below. The model may not be optimal for the problem and improvements could be made via grid searching. For details on how, see Chapter 15.\n",
    "- n input: 36 (i.e. 3 years or 3 × 12)\n",
    "- n nodes: 50\n",
    "- n epochs: 100\n",
    "- n batch: 100 (i.e. batch gradient descent) \n",
    "- n diff: 12 (i.e. seasonal difference)\n"
   ]
  },
  {
   "cell_type": "code",
   "execution_count": 23,
   "id": "f6ee13a2",
   "metadata": {},
   "outputs": [],
   "source": [
    "# define config\n",
    "config = [36, 50, 100, 100, 12]"
   ]
  },
  {
   "cell_type": "markdown",
   "id": "9698daaa",
   "metadata": {},
   "source": [
    "**Tying all of this together, the complete example is listed below.**"
   ]
  },
  {
   "cell_type": "code",
   "execution_count": 24,
   "id": "cfc2374e",
   "metadata": {},
   "outputs": [
    {
     "name": "stdout",
     "output_type": "stream",
     "text": [
      " > 2084.880\n",
      " > 2112.878\n",
      " > 2137.161\n",
      " > 2101.272\n",
      " > 2147.722\n",
      " > 2161.797\n",
      " > 2057.479\n",
      " > 2092.652\n",
      " > 2009.579\n",
      " > 1970.415\n",
      " > 2201.971\n",
      " > 2102.878\n",
      " > 2079.842\n",
      " > 2122.863\n",
      " > 2021.844\n",
      " > 2130.668\n",
      " > 2066.279\n",
      " > 2402.782\n",
      " > 2173.830\n",
      " > 2077.434\n",
      " > 1991.459\n",
      " > 2124.994\n",
      " > 2064.968\n",
      " > 2078.759\n",
      " > 2080.539\n",
      " > 2210.708\n",
      " > 2182.131\n",
      " > 2176.727\n",
      " > 2132.380\n",
      " > 2076.324\n",
      "lstm: 2112.507 RMSE (+/- 79.190)\n"
     ]
    },
    {
     "data": {
      "image/png": "[encoded data removed]",
      "text/plain": [
       "<Figure size 432x288 with 1 Axes>"
      ]
     },
     "metadata": {
      "needs_background": "light"
     },
     "output_type": "display_data"
    }
   ],
   "source": [
    "# evaluate lstm for monthly car sales dataset\n",
    "from math import sqrt\n",
    "from numpy import array\n",
    "from numpy import mean\n",
    "from numpy import std\n",
    "from pandas import DataFrame\n",
    "from pandas import concat\n",
    "from pandas import read_csv\n",
    "from sklearn.metrics import mean_squared_error\n",
    "from keras.models import Sequential\n",
    "from keras.layers import Dense\n",
    "from keras.layers import LSTM\n",
    "from matplotlib import pyplot\n",
    "\n",
    "\n",
    "# split a univariate dataset into train/test sets\n",
    "def train_test_split(data, n_test):\n",
    "    return data[:-n_test], data[-n_test:]\n",
    "\n",
    "# transform list into supervised learning format\n",
    "def series_to_supervised(data, n_in, n_out=1):\n",
    "    df = DataFrame(data)\n",
    "    cols = list()\n",
    "    # input sequence (t-n, ... t-1)\n",
    "    for i in range(n_in, 0, -1):\n",
    "        cols.append(df.shift(i))\n",
    "    # forecast sequence (t, t+1, ... t+n)\n",
    "    for i in range(0, n_out):\n",
    "        cols.append(df.shift(-i))\n",
    "    # put it all together\n",
    "    agg = concat(cols, axis=1)\n",
    "    # drop rows with NaN values\n",
    "    agg.dropna(inplace=True)\n",
    "    return agg.values\n",
    "\n",
    "# root mean squared error or rmse\n",
    "def measure_rmse(actual, predicted):\n",
    "    return sqrt(mean_squared_error(actual, predicted))\n",
    "\n",
    "# difference dataset\n",
    "def difference(data, interval):\n",
    "    return [data[i] - data[i - interval] for i in range(interval, len(data))]\n",
    "\n",
    "# fit a model\n",
    "def model_fit(train, config):\n",
    "    # unpack config\n",
    "    n_input, n_nodes, n_epochs, n_batch, n_diff = config\n",
    "    # prepare data\n",
    "    if n_diff > 0:\n",
    "        train = difference(train, n_diff)\n",
    "    data = series_to_supervised(train, n_input)\n",
    "    train_x, train_y = data[:, :-1], data[:, -1]\n",
    "    train_x = train_x.reshape((train_x.shape[0], train_x.shape[1], 1))\n",
    "    # define model\n",
    "    model = Sequential()\n",
    "    model.add(LSTM(n_nodes, activation='relu', input_shape=(n_input, 1))) \n",
    "    model.add(Dense(n_nodes, activation='relu'))\n",
    "    model.add(Dense(1))\n",
    "    model.compile(loss='mse', optimizer='adam')\n",
    "    # fit\n",
    "    model.fit(train_x, train_y, epochs=n_epochs, batch_size=n_batch, verbose=0) \n",
    "    return model\n",
    "\n",
    "# forecast with a pre-fit model\n",
    "def model_predict(model, history, config):\n",
    "    n_input, _, _, _, n_diff = config\n",
    "    # prepare data\n",
    "    correction = 0.0\n",
    "    if n_diff > 0:\n",
    "        correction = history[-n_diff]\n",
    "        history = difference(history, n_diff)\n",
    "    x_input = array(history[-n_input:]).reshape((1, n_input, 1))\n",
    "    # forecast\n",
    "    yhat = model.predict(x_input, verbose=0)\n",
    "    return correction + yhat[0]\n",
    "\n",
    "# walk-forward validation for univariate data\n",
    "def walk_forward_validation(data, n_test, cfg):\n",
    "    predictions = list()\n",
    "    # split dataset\n",
    "    train, test = train_test_split(data, n_test)\n",
    "    # fit model\n",
    "    model = model_fit(train, cfg)\n",
    "    # seed history with training dataset\n",
    "    history = [x for x in train]\n",
    "    # step over each time-step in the test set\n",
    "    for i in range(len(test)):\n",
    "        # fit model and make forecast for history\n",
    "        yhat = model_predict(model, history, cfg)\n",
    "        # store forecast in list of predictions\n",
    "        predictions.append(yhat)\n",
    "        # add actual observation to history for the next loop\n",
    "        history.append(test[i])\n",
    "    # estimate prediction error\n",
    "    error = measure_rmse(test, predictions) \n",
    "    print(' > %.3f' % error)\n",
    "    return error\n",
    "\n",
    "# repeat evaluation of a config\n",
    "def repeat_evaluate(data, config, n_test, n_repeats=30):\n",
    "    # fit and evaluate the model n times\n",
    "    scores = [walk_forward_validation(data, n_test, config) for _ in range(n_repeats)]\n",
    "    return scores\n",
    "\n",
    "# summarize model performance\n",
    "def summarize_scores(name, scores):\n",
    "    # print a summary\n",
    "    scores_m, score_std = mean(scores), std(scores)\n",
    "    print('%s: %.3f RMSE (+/- %.3f)' % (name, scores_m, score_std)) # box and whisker plot\n",
    "    pyplot.boxplot(scores)\n",
    "    pyplot.show()\n",
    "     \n",
    "series = read_csv('monthly-car-sales.csv', header=0, index_col=0) \n",
    "data = series.values\n",
    "# data split\n",
    "n_test = 12\n",
    "# define config\n",
    "config = [36, 50, 100, 100, 12]\n",
    "# grid search\n",
    "scores = repeat_evaluate(data, config, n_test)\n",
    "# summarize scores\n",
    "summarize_scores('lstm', scores)"
   ]
  },
  {
   "cell_type": "markdown",
   "id": "abb544d2",
   "metadata": {},
   "source": [
    "**LSTMs, at least alone, are perhaps a bad fit for autoregressive-type sequence prediction problems.**"
   ]
  },
  {
   "cell_type": "markdown",
   "id": "84e5846d",
   "metadata": {},
   "source": [
    "### 14.6.2 CNN LSTM"
   ]
  },
  {
   "cell_type": "markdown",
   "id": "b95ac11e",
   "metadata": {},
   "source": [
    " the CNN model is capable of automatically learning and extracting features from the raw sequence data without scaling or differencing. We can combine this capability with the LSTM where a CNN model is applied to sub-sequences of input data, the results of which together form a time series of extracted features that can be interpreted by an LSTM model. This combination of a CNN model used to read multiple subsequences over time by an LSTM is called a **CNN-LSTM model**."
   ]
  },
  {
   "cell_type": "markdown",
   "id": "9a969cdd",
   "metadata": {},
   "source": [
    "The number of lag observations per sample is simply (n seq × n steps). This is a 4-dimensional input array now with the dimensions: [samples, subsequences, timesteps, features]. The same CNN model must be applied to each input subsequence. We can achieve this by wrapping the entire CNN model in a TimeDistributed layer wrapper."
   ]
  },
  {
   "cell_type": "markdown",
   "id": "f7ac7ad0",
   "metadata": {},
   "source": [
    "每个样本的滞后观测值数量很简单（n 序列× n 步）。这是一个 4 维输入数组，现在具有以下维度：[样本、子序列、时间步长、特征]。必须将相同的 CNN 模型应用于每个输入子序列。我们可以通过将整个CNN模型包装在TimeDistributed层包装器中来实现这一点。"
   ]
  },
  {
   "cell_type": "code",
   "execution_count": null,
   "id": "ec7cbd19",
   "metadata": {},
   "outputs": [],
   "source": [
    "# define CNN input model\n",
    "model = Sequential()\n",
    "model.add(TimeDistributed(Conv1D(n_filters, n_kernel, activation='relu',\n",
    "input_shape=(None,n_steps,1)))) \n",
    "model.add(TimeDistributed(Conv1D(n_filters, n_kernel, activation='relu'))) \n",
    "model.add(TimeDistributed(MaxPooling1D())) \n",
    "model.add(TimeDistributed(Flatten()))\n",
    "\n",
    "# define LSTM and output model\n",
    "model.add(LSTM(n_nodes, activation='relu')) \n",
    "model.add(Dense(n_nodes, activation='relu')) \n",
    "model.add(Dense(1))"
   ]
  },
  {
   "cell_type": "code",
   "execution_count": 26,
   "id": "bf1f3abd",
   "metadata": {},
   "outputs": [],
   "source": [
    "# fit a model\n",
    "def model_fit(train, config):\n",
    "    # unpack config\n",
    "    n_seq, n_steps, n_filters, n_kernel, n_nodes, n_epochs, n_batch = config \n",
    "    n_input = n_seq * n_steps\n",
    "    # prepare data\n",
    "    data = series_to_supervised(train, n_input)\n",
    "    train_x, train_y = data[:, :-1], data[:, -1]\n",
    "    train_x = train_x.reshape((train_x.shape[0], n_seq, n_steps, 1))\n",
    "    # define model\n",
    "    model = Sequential()\n",
    "    model.add(TimeDistributed(Conv1D(n_filters, n_kernel, activation='relu',\n",
    "      input_shape=(None,n_steps,1))))\n",
    "    model.add(TimeDistributed(Conv1D(n_filters, n_kernel, activation='relu'))) \n",
    "    model.add(TimeDistributed(MaxPooling1D())) \n",
    "    model.add(TimeDistributed(Flatten()))\n",
    "    model.add(LSTM(n_nodes, activation='relu'))\n",
    "    model.add(Dense(n_nodes, activation='relu')) \n",
    "    model.add(Dense(1)) \n",
    "    model.compile(loss='mse', optimizer='adam') # fit\n",
    "    model.fit(train_x, train_y, epochs=n_epochs, batch_size=n_batch, verbose=0)\n",
    "    return model"
   ]
  },
  {
   "cell_type": "code",
   "execution_count": 28,
   "id": "3aa0cda8",
   "metadata": {},
   "outputs": [],
   "source": [
    "# forecast with a pre-fit model\n",
    "def model_predict(model, history, config):\n",
    "    # unpack config\n",
    "    n_seq, n_steps, _, _, _, _, _ = config\n",
    "    n_input = n_seq * n_steps\n",
    "    # prepare data\n",
    "    x_input = array(history[-n_input:]).reshape((1, n_seq, n_steps, 1))\n",
    "    # forecast\n",
    "    yhat = model.predict(x_input, verbose=0)\n",
    "    return yhat[0]\n"
   ]
  },
  {
   "cell_type": "markdown",
   "id": "4e0fef5d",
   "metadata": {},
   "source": [
    "Model hyperparameters were chosen with a little trial and error and are listed below. \n",
    "(模型超参数是通过一些试验和错误选择的，下面列出了。)\n",
    "\n",
    "The model may not be optimal for the problem and improvements could be made via grid searching. For details on how, see Chapter 15.\n",
    "- n seq: 3 (i.e. 3 years)\n",
    "- n steps: 12 (i.e. 1 year of months)\n",
    "- n filters: 64\n",
    "- n kernel: 3\n",
    "- n nodes: 100\n",
    "- n epochs: 200\n",
    "- n batch: 100 (i.e. batch gradient descent)"
   ]
  },
  {
   "cell_type": "code",
   "execution_count": 27,
   "id": "a6c1439c",
   "metadata": {},
   "outputs": [],
   "source": [
    "# define config\n",
    "config = [3, 12, 64, 3, 100, 200, 100]"
   ]
  },
  {
   "cell_type": "code",
   "execution_count": 29,
   "id": "0701d9e1",
   "metadata": {},
   "outputs": [
    {
     "name": "stdout",
     "output_type": "stream",
     "text": [
      " > 1542.010\n",
      " > 1674.139\n",
      " > 1626.140\n",
      " > 1782.052\n",
      " > 1767.441\n",
      " > 1597.743\n",
      " > 1398.815\n",
      " > 1573.504\n",
      " > 1948.579\n",
      " > 1661.900\n",
      " > 1467.009\n",
      " > 1635.157\n",
      " > 1635.752\n",
      " > 1797.327\n",
      " > 1887.309\n",
      " > 1481.793\n",
      " > 1624.078\n",
      " > 1514.280\n",
      " > 1620.432\n",
      " > 1584.217\n",
      " > 1694.848\n",
      " > 1602.391\n",
      " > 1632.928\n",
      " > 1464.391\n",
      " > 2100.525\n",
      " > 1562.729\n",
      " > 2048.506\n",
      " > 1622.387\n",
      " > 1532.653\n",
      " > 1777.382\n",
      "cnn-lstm: 1661.947 RMSE (+/- 163.750)\n"
     ]
    },
    {
     "data": {
      "image/png": "[encoded data removed]",
      "text/plain": [
       "<Figure size 432x288 with 1 Axes>"
      ]
     },
     "metadata": {
      "needs_background": "light"
     },
     "output_type": "display_data"
    }
   ],
   "source": [
    "# evaluate cnn-lstm for monthly car sales dataset\n",
    "from math import sqrt\n",
    "from numpy import array\n",
    "from numpy import mean\n",
    "from numpy import std\n",
    "from pandas import DataFrame\n",
    "from pandas import concat\n",
    "from pandas import read_csv\n",
    "from sklearn.metrics import mean_squared_error\n",
    "from keras.models import Sequential\n",
    "from keras.layers import Dense\n",
    "from keras.layers import LSTM\n",
    "from keras.layers import TimeDistributed\n",
    "from keras.layers import Flatten\n",
    "from keras.layers.convolutional import Conv1D\n",
    "from keras.layers.convolutional import MaxPooling1D\n",
    "from matplotlib import pyplot\n",
    "\n",
    "# split a univariate dataset into train/test sets\n",
    "def train_test_split(data, n_test):\n",
    "    return data[:-n_test], data[-n_test:]\n",
    "\n",
    "# transform list into supervised learning format\n",
    "def series_to_supervised(data, n_in, n_out=1):\n",
    "    df = DataFrame(data)\n",
    "    cols = list()\n",
    "    # input sequence (t-n, ... t-1)\n",
    "    for i in range(n_in, 0, -1):\n",
    "        cols.append(df.shift(i))\n",
    "    # forecast sequence (t, t+1, ... t+n)\n",
    "    for i in range(0, n_out):\n",
    "        cols.append(df.shift(-i))\n",
    "    # put it all together\n",
    "    agg = concat(cols, axis=1)\n",
    "    # drop rows with NaN values\n",
    "    agg.dropna(inplace=True)\n",
    "    return agg.values\n",
    "\n",
    "# root mean squared error or rmse\n",
    "def measure_rmse(actual, predicted):\n",
    "    return sqrt(mean_squared_error(actual, predicted))\n",
    "\n",
    "# fit a model\n",
    "def model_fit(train, config):\n",
    "    # unpack config\n",
    "    n_seq, n_steps, n_filters, n_kernel, n_nodes, n_epochs, n_batch = config \n",
    "    n_input = n_seq * n_steps\n",
    "    # prepare data\n",
    "    data = series_to_supervised(train, n_input)\n",
    "    train_x, train_y = data[:, :-1], data[:, -1]\n",
    "    train_x = train_x.reshape((train_x.shape[0], n_seq, n_steps, 1))\n",
    "    # define model\n",
    "    model = Sequential()\n",
    "    model.add(TimeDistributed(Conv1D(n_filters, n_kernel, activation='relu',\n",
    "      input_shape=(None,n_steps,1))))\n",
    "    model.add(TimeDistributed(Conv1D(n_filters, n_kernel, activation='relu'))) \n",
    "    model.add(TimeDistributed(MaxPooling1D())) \n",
    "    model.add(TimeDistributed(Flatten()))\n",
    "    model.add(LSTM(n_nodes, activation='relu'))\n",
    "    model.add(Dense(n_nodes, activation='relu')) \n",
    "    model.add(Dense(1)) \n",
    "    model.compile(loss='mse', optimizer='adam') # fit\n",
    "    model.fit(train_x, train_y, epochs=n_epochs, batch_size=n_batch, verbose=0)\n",
    "    return model\n",
    "\n",
    "# forecast with a pre-fit model\n",
    "def model_predict(model, history, config):\n",
    "    # unpack config\n",
    "    n_seq, n_steps, _, _, _, _, _ = config\n",
    "    n_input = n_seq * n_steps\n",
    "    # prepare data\n",
    "    x_input = array(history[-n_input:]).reshape((1, n_seq, n_steps, 1))\n",
    "    # forecast\n",
    "    yhat = model.predict(x_input, verbose=0)\n",
    "    return yhat[0]\n",
    "\n",
    "# walk-forward validation for univariate data\n",
    "def walk_forward_validation(data, n_test, cfg):\n",
    "    predictions = list()\n",
    "    # split dataset\n",
    "    train, test = train_test_split(data, n_test)\n",
    "    # fit model\n",
    "    model = model_fit(train, cfg)\n",
    "    # seed history with training dataset\n",
    "    history = [x for x in train]\n",
    "    # step over each time-step in the test set\n",
    "    for i in range(len(test)):\n",
    "        # fit model and make forecast for history\n",
    "        yhat = model_predict(model, history, cfg)\n",
    "        # store forecast in list of predictions\n",
    "        predictions.append(yhat)\n",
    "        # add actual observation to history for the next loop\n",
    "        history.append(test[i])\n",
    "    # estimate prediction error\n",
    "    error = measure_rmse(test, predictions) \n",
    "    print(' > %.3f' % error)\n",
    "    return error\n",
    "\n",
    "# repeat evaluation of a config\n",
    "def repeat_evaluate(data, config, n_test, n_repeats=30):\n",
    "    # fit and evaluate the model n times\n",
    "    scores = [walk_forward_validation(data, n_test, config) for _ in range(n_repeats)]\n",
    "    return scores\n",
    "\n",
    "# summarize model performance\n",
    "def summarize_scores(name, scores):\n",
    "    # print a summary\n",
    "    scores_m, score_std = mean(scores), std(scores)\n",
    "    print('%s: %.3f RMSE (+/- %.3f)' % (name, scores_m, score_std)) # box and whisker plot\n",
    "    pyplot.boxplot(scores)\n",
    "    pyplot.show()\n",
    "     \n",
    "\n",
    "series = read_csv('monthly-car-sales.csv', header=0, index_col=0) \n",
    "data = series.values\n",
    "# data split\n",
    "n_test = 12\n",
    "# define config\n",
    "config = [3, 12, 64, 3, 100, 200, 100]\n",
    "# grid search\n",
    "scores = repeat_evaluate(data, config, n_test)\n",
    "# summarize scores\n",
    "summarize_scores('cnn-lstm', scores)"
   ]
  },
  {
   "cell_type": "markdown",
   "id": "a74e0e15",
   "metadata": {},
   "source": [
    "Running the example prints the RMSE for each repeated evaluation of the model. The final averaged RMSE is reported at the end of about 1,626, which is **lower** than the naive model, but still **higher** than a SARIMA model. The standard deviation of this score is also very large, suggesting that the chosen configuration may not be as stable as the standalone CNN model."
   ]
  },
  {
   "cell_type": "markdown",
   "id": "f13bfc8f",
   "metadata": {},
   "source": [
    "### 14.6.3 ConvLSTM"
   ]
  },
  {
   "cell_type": "markdown",
   "id": "22a49dde",
   "metadata": {},
   "source": [
    "It is possible to perform a convolutional operation as part of the read of the input sequence within each LSTM unit. This means, rather than reading a sequence one step at a time, the LSTM would read a block or subsequence of observations at a time using a convolutional process, like a CNN. This is different to first reading an extracting features with an LSTM and interpreting the result with an LSTM; this is performing the CNN operation at each time step as part of the LSTM.\n",
    "\n",
    "This type of model is called a Convolutional LSTM, or ConvLSTM for short. "
   ]
  },
  {
   "cell_type": "markdown",
   "id": "53356a71",
   "metadata": {},
   "source": [
    "可以执行卷积操作，作为读取每个 LSTM 单元内输入序列的一部分。这意味着，LSTM 不是一次一步地读取一个序列，而是使用卷积过程（如 CNN）一次读取一个观察块或子序列。这与首先使用 LSTM 读取提取特征并使用 LSTM 解释结果不同;这是在每个时间步执行 CNN 操作，作为 LSTM 的一部分。\n",
    "这种类型的模型称为卷积LSTM，简称ConvLSTM。"
   ]
  },
  {
   "cell_type": "markdown",
   "id": "6d5993e3",
   "metadata": {},
   "source": [
    "The output of the layer is a sequence of filter maps that must first be flattened before it can be interpreted and followed by an output layer. The model expects a list of seven hyperparameters, the same as the CNN-LSTM; they are:\n",
    "- n seq: The number of subsequences within a sample.\n",
    "- n steps: The number of time steps within each subsequence.\n",
    "- n filters: The number of parallel filters.\n",
    "- n kernel: The number of time steps considered in each read of the input sequence.\n",
    "- n nodes: The number of LSTM units to use in the hidden layer.\n",
    "- n epochs: The number of times to expose the model to the whole training dataset.\n",
    "- n batch: The number of samples within an epoch after which the weights are updated.\n"
   ]
  },
  {
   "cell_type": "code",
   "execution_count": null,
   "id": "7b4e87ce",
   "metadata": {},
   "outputs": [],
   "source": [
    "# fit a model\n",
    "def model_fit(train, config):\n",
    "    # unpack config\n",
    "    n_seq, n_steps, n_filters, n_kernel, n_nodes, n_epochs, n_batch = config\n",
    "    n_input = n_seq * n_steps\n",
    "    # prepare data\n",
    "    data = series_to_supervised(train, n_input)\n",
    "    train_x, train_y = data[:, :-1], data[:, -1]\n",
    "    train_x = train_x.reshape((train_x.shape[0], n_seq, 1, n_steps, 1))\n",
    "    # define model\n",
    "    model = Sequential()\n",
    "    model.add(ConvLSTM2D(n_filters, (1,n_kernel), activation='relu', input_shape=(n_seq, 1,\n",
    "    n_steps, 1)))\n",
    "    model.add(Flatten())\n",
    "    model.add(Dense(n_nodes, activation='relu'))\n",
    "    model.add(Dense(1))\n",
    "    model.compile(loss='mse', optimizer='adam')\n",
    "    # fit\n",
    "    model.fit(train_x, train_y, epochs=n_epochs, batch_size=n_batch, verbose=0) \n",
    "    return model"
   ]
  },
  {
   "cell_type": "code",
   "execution_count": 31,
   "id": "ed01384a",
   "metadata": {},
   "outputs": [
    {
     "name": "stdout",
     "output_type": "stream",
     "text": [
      " > 1651.708\n",
      " > 2263.347\n",
      " > 1704.932\n",
      " > 1629.916\n",
      " > 1684.703\n",
      " > 1614.466\n",
      " > 2127.499\n",
      " > 1438.152\n",
      " > 1491.593\n",
      " > 1698.939\n",
      " > 2155.454\n",
      " > 1571.661\n",
      " > 2073.914\n",
      " > 1883.226\n",
      " > 2507.744\n",
      " > 2641.016\n",
      " > 2301.998\n",
      " > 1626.632\n",
      " > 1584.597\n",
      " > 1283.161\n",
      " > 2989.825\n",
      " > 1731.696\n",
      " > 1807.784\n",
      " > 2670.149\n",
      " > 2065.728\n",
      " > 1587.325\n",
      " > 1874.714\n",
      " > 1756.115\n",
      " > 1731.364\n",
      " > 1715.808\n",
      "convlstm: 1895.506 RMSE (+/- 398.714)\n"
     ]
    },
    {
     "data": {
      "image/png": "[encoded data removed]",
      "text/plain": [
       "<Figure size 432x288 with 1 Axes>"
      ]
     },
     "metadata": {
      "needs_background": "light"
     },
     "output_type": "display_data"
    }
   ],
   "source": [
    "# evaluate cnn-lstm for monthly car sales dataset\n",
    "from math import sqrt\n",
    "from numpy import array\n",
    "from numpy import mean\n",
    "from numpy import std\n",
    "from pandas import DataFrame\n",
    "from pandas import concat\n",
    "from pandas import read_csv\n",
    "from sklearn.metrics import mean_squared_error\n",
    "from keras.models import Sequential\n",
    "from keras.layers import Dense\n",
    "from keras.layers import LSTM\n",
    "from keras.layers import TimeDistributed\n",
    "from keras.layers import Flatten\n",
    "from keras.layers import ConvLSTM2D\n",
    "from matplotlib import pyplot\n",
    "\n",
    "# split a univariate dataset into train/test sets\n",
    "def train_test_split(data, n_test):\n",
    "    return data[:-n_test], data[-n_test:]\n",
    "\n",
    "# transform list into supervised learning format\n",
    "def series_to_supervised(data, n_in, n_out=1):\n",
    "    df = DataFrame(data)\n",
    "    cols = list()\n",
    "    # input sequence (t-n, ... t-1)\n",
    "    for i in range(n_in, 0, -1):\n",
    "        cols.append(df.shift(i))\n",
    "    # forecast sequence (t, t+1, ... t+n)\n",
    "    for i in range(0, n_out):\n",
    "        cols.append(df.shift(-i))\n",
    "    # put it all together\n",
    "    agg = concat(cols, axis=1)\n",
    "    # drop rows with NaN values\n",
    "    agg.dropna(inplace=True)\n",
    "    return agg.values\n",
    "\n",
    "# root mean squared error or rmse\n",
    "def measure_rmse(actual, predicted):\n",
    "    return sqrt(mean_squared_error(actual, predicted))\n",
    "\n",
    "# difference dataset\n",
    "def difference(data, interval):\n",
    "    return [data[i] - data[i - interval] for i in range(interval, len(data))]\n",
    "\n",
    "# fit a model\n",
    "def model_fit(train, config):\n",
    "    # unpack config\n",
    "    n_seq, n_steps, n_filters, n_kernel, n_nodes, n_epochs, n_batch = config\n",
    "    n_input = n_seq * n_steps\n",
    "    # prepare data\n",
    "    data = series_to_supervised(train, n_input)\n",
    "    train_x, train_y = data[:, :-1], data[:, -1]\n",
    "    train_x = train_x.reshape((train_x.shape[0], n_seq, 1, n_steps, 1))\n",
    "    # define model\n",
    "    model = Sequential()\n",
    "    model.add(ConvLSTM2D(n_filters, (1,n_kernel), activation='relu', input_shape=(n_seq, 1,\n",
    "    n_steps, 1)))\n",
    "    model.add(Flatten())\n",
    "    model.add(Dense(n_nodes, activation='relu'))\n",
    "    model.add(Dense(1))\n",
    "    model.compile(loss='mse', optimizer='adam')\n",
    "    # fit\n",
    "    model.fit(train_x, train_y, epochs=n_epochs, batch_size=n_batch, verbose=0) \n",
    "    return model\n",
    "\n",
    "# forecast with a pre-fit model\n",
    "def model_predict(model, history, config):\n",
    "    # unpack config\n",
    "    n_seq, n_steps, _, _, _, _, _ = config\n",
    "    n_input = n_seq * n_steps\n",
    "    # prepare data\n",
    "    x_input = array(history[-n_input:]).reshape((1, n_seq, 1, n_steps, 1))\n",
    "    # forecast\n",
    "    yhat = model.predict(x_input, verbose=0)\n",
    "    return yhat[0]\n",
    "\n",
    "# walk-forward validation for univariate data\n",
    "def walk_forward_validation(data, n_test, cfg):\n",
    "    predictions = list()\n",
    "    # split dataset\n",
    "    train, test = train_test_split(data, n_test)\n",
    "    # fit model\n",
    "    model = model_fit(train, cfg)\n",
    "    # seed history with training dataset\n",
    "    history = [x for x in train]\n",
    "    # step over each time-step in the test set\n",
    "    for i in range(len(test)):\n",
    "        # fit model and make forecast for history\n",
    "        yhat = model_predict(model, history, cfg)\n",
    "        # store forecast in list of predictions\n",
    "        predictions.append(yhat)\n",
    "        # add actual observation to history for the next loop\n",
    "        history.append(test[i])\n",
    "    # estimate prediction error\n",
    "    error = measure_rmse(test, predictions) \n",
    "    print(' > %.3f' % error)\n",
    "    return error\n",
    "\n",
    "# repeat evaluation of a config\n",
    "def repeat_evaluate(data, config, n_test, n_repeats=30):\n",
    "    # fit and evaluate the model n times\n",
    "    scores = [walk_forward_validation(data, n_test, config) for _ in range(n_repeats)]\n",
    "    return scores\n",
    "\n",
    "# summarize model performance\n",
    "def summarize_scores(name, scores):\n",
    "    # print a summary\n",
    "    scores_m, score_std = mean(scores), std(scores)\n",
    "    print('%s: %.3f RMSE (+/- %.3f)' % (name, scores_m, score_std)) # box and whisker plot\n",
    "    pyplot.boxplot(scores)\n",
    "    pyplot.show()\n",
    "\n",
    "\n",
    "series = read_csv('monthly-car-sales.csv', header=0, index_col=0) \n",
    "data = series.values\n",
    "# data split\n",
    "n_test = 12\n",
    "# define config\n",
    "config = [3, 12, 64, 3, 100, 200, 100]\n",
    "# grid search\n",
    "scores = repeat_evaluate(data, config, n_test)\n",
    "# summarize scores\n",
    "summarize_scores('convlstm', scores)"
   ]
  },
  {
   "cell_type": "markdown",
   "id": "446b5d5e",
   "metadata": {},
   "source": [
    "## 14.7 Extensions"
   ]
  },
  {
   "cell_type": "markdown",
   "id": "77ff4538",
   "metadata": {},
   "source": [
    "This section lists some ideas for extending the tutorial that you may wish to explore.\n",
    "- **Data Preparation**. Explore whether data preparation, such as normalization, standard- ization, and/or differencing can list the performance of any of the models.\n",
    "- **Grid Search Hyperparameters**. Implement a grid search of the hyperparameters for one model to see if you can further lift performance.\n",
    "- **Learning Curve Diagnostics**. Create a single fit of one model and review the learning curves on train and validation splits of the dataset, then use the diagnostics of the learning curves to further tune the model hyperparameters in order to improve model performance.\n",
    "- **History Size**. Explore different amounts of historical data (lag inputs) for one model to see if you can further improve model performance\n",
    "- **Reduce Variance of Final Model**. Explore one or more strategies to reduce the variance for one of the neural network models.\n",
    "- **Update During Walk-Forward**. Explore whether re-fitting or updating a neural\n",
    "network model as part of walk-forward validation can further improve model performance.\n",
    "- **More Parameterization**. Explore adding further model parameterization for one model, such as the use of additional layers."
   ]
  },
  {
   "cell_type": "markdown",
   "id": "7faca8c0",
   "metadata": {},
   "source": [
    "## 14.9 Summary\n",
    "In this tutorial, you discovered how to develop a suite of deep learning models for univariate time series forecasting. Specifically, you learned:\n",
    "- How to develop a robust test harness using walk-forward validation for evaluating the performance of neural network models.\n",
    "- How to develop and evaluate simple Multilayer Perceptron and convolutional neural networks for time series forecasting.\n",
    "- How to develop and evaluate LSTMs, CNN-LSTMs, and ConvLSTM neural network models for time series forecasting."
   ]
  },
  {
   "cell_type": "code",
   "execution_count": null,
   "id": "46b94ed3",
   "metadata": {},
   "outputs": [],
   "source": []
  }
 ],
 "metadata": {
  "kernelspec": {
   "display_name": "Python 3",
   "language": "python",
   "name": "python3"
  },
  "language_info": {
   "codemirror_mode": {
    "name": "ipython",
    "version": 3
   },
   "file_extension": ".py",
   "mimetype": "text/x-python",
   "name": "python",
   "nbconvert_exporter": "python",
   "pygments_lexer": "ipython3",
   "version": "3.8.8"
  }
 },
 "nbformat": 4,
 "nbformat_minor": 5
}
