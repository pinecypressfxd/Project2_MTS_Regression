{
 "cells": [
  {
   "cell_type": "markdown",
   "id": "f0f9ef7d",
   "metadata": {},
   "source": [
    "# Chapter 17 How to Develop Naive Models for Multi-step Energy Usage Forecasting"
   ]
  },
  {
   "cell_type": "markdown",
   "id": "393464ae",
   "metadata": {},
   "source": [
    "In this tutorial, you will discover how to develop a test harness for the Household Power Consumption dataset and evaluate three naive forecast strategies that provide a baseline for more sophisticated algorithms. After completing this tutorial, you will know:\n",
    "- How to load, prepare, and downsample the household power consumption dataset ready for developing models.\n",
    "- How to develop metrics, dataset split, and walk-forward validation elements for a robust test harness for evaluating forecasting models.\n",
    "- How to develop and evaluate and compare the performance a suite of naive persistence forecasting methods."
   ]
  },
  {
   "cell_type": "markdown",
   "id": "8fa5a773",
   "metadata": {},
   "source": [
    "## 17.1 Tutorial Overview\n",
    "This tutorial is divided into four parts; they are:\n",
    "1. Problem Description\n",
    "2. Load and Prepare Dataset\n",
    "3. Model Evaluation\n",
    "4. Develop Naive Forecast Models"
   ]
  },
  {
   "cell_type": "markdown",
   "id": "f84a26b4",
   "metadata": {},
   "source": [
    "## 17.2 Problem Description"
   ]
  },
  {
   "cell_type": "markdown",
   "id": "295f81c7",
   "metadata": {},
   "source": [
    "It is a multivariate series comprised of seven variables\n",
    "(besides the date and time); they are:\n",
    "- global active power: The total active power consumed by the household (kilowatts).\n",
    "- global reactive power: The total reactive power consumed by the household (kilowatts). 􏰀 voltage: Average voltage (volts).\n",
    "- global intensity: Average current intensity (amps).\n",
    "- sub metering 1: Active energy for kitchen (watt-hours of active energy).\n",
    "- sub metering 2: Active energy for laundry (watt-hours of active energy).\n",
    "- sub metering 3: Active energy for climate control systems (watt-hours of active energy)."
   ]
  },
  {
   "cell_type": "markdown",
   "id": "4fafb7f7",
   "metadata": {},
   "source": [
    "## 17.3 Load and Prepare Dataset"
   ]
  },
  {
   "cell_type": "code",
   "execution_count": 1,
   "id": "d620365e",
   "metadata": {},
   "outputs": [],
   "source": [
    "# load and clean-up the power usage dataset\n",
    "from numpy import nan\n",
    "from numpy import isnan\n",
    "from pandas import read_csv\n",
    "\n",
    "# fill missing values with a value at the same time one day ago\n",
    "def fill_missing(values):\n",
    "    one_day = 60 * 24\n",
    "    for row in range(values.shape[0]):\n",
    "        for col in range(values.shape[1]):\n",
    "            if isnan(values[row, col]):\n",
    "                values[row, col] = values[row - one_day, col]\n",
    "                \n",
    "# load all data\n",
    "dataset = read_csv('household_power_consumption.txt', sep=';', header=0,\n",
    "                   low_memory=False, infer_datetime_format=True,\n",
    "                   parse_dates={'datetime':[0,1]}, index_col=['datetime'])\n",
    "# mark all missing values\n",
    "dataset.replace('?', nan, inplace=True)\n",
    "# make dataset numeric\n",
    "dataset = dataset.astype('float32')\n",
    "# fill missing \n",
    "fill_missing(dataset.values)\n",
    "# add a column for the remainder of sub metering\n",
    "values = dataset.values\n",
    "dataset['sub_metering_4'] = (values[:,0] * 1000 / 60) - (values[:,4] + values[:,5] + values[:,6])\n",
    "# save updated dataset\n",
    "dataset.to_csv('household_power_consumption.csv')"
   ]
  },
  {
   "cell_type": "markdown",
   "id": "2f010ee6",
   "metadata": {},
   "source": [
    "## 17.4 Model Evaluation"
   ]
  },
  {
   "cell_type": "markdown",
   "id": "ac70fcec",
   "metadata": {},
   "source": [
    "In this section, we will consider how we can develop and evaluate predictive models for the household power dataset. This section is divided into four parts; they are:\n",
    "1. Problem Framing\n",
    "2. Evaluation Metric\n",
    "3. Train and Test Sets\n",
    "4. Walk-Forward Validation"
   ]
  },
  {
   "cell_type": "markdown",
   "id": "5b12b871",
   "metadata": {},
   "source": [
    "### 17.4.1 Problem Framing"
   ]
  },
  {
   "cell_type": "markdown",
   "id": "87943d69",
   "metadata": {},
   "source": [
    "There are many ways to harness and explore the household power consumption dataset. In this tutorial, we will use the data to explore a very specific question; that is: Given recent power consumption, what is the expected power consumption for the week ahead? This requires that a predictive model forecast the total active power for each day over the next seven days. Technically, this framing of the problem is referred to as a multi-step time series forecasting problem, given the multiple forecast steps. A model that makes use of multiple input variables may be referred to as a multivariate multi-step time series forecasting model."
   ]
  },
  {
   "cell_type": "markdown",
   "id": "382468ff",
   "metadata": {},
   "source": [
    "有许多方法可以利用和探索家庭功耗数据集。在本教程中，我们将使用数据来探索一个非常具体的问题;也就是说：**鉴于最近的功耗，未来一周的预期功耗是多少？**这要求预测模型预测未来七天内每天的总有功功率。从技术上讲，给定多个预测步骤，问题的这种框架称为多步骤时间序列预测问题。使用多个输入变量的模型可称为多变量多步骤时间序列预测模型。"
   ]
  },
  {
   "cell_type": "markdown",
   "id": "f8d1e7a6",
   "metadata": {},
   "source": [
    "A model of this type could be helpful within the household in planning expenditures. It could also be helpful on the supply side for planning electricity demand for a specific household. This framing of the dataset also suggests that it would be useful to downsample the per-minute observations of power consumption to daily totals. This is not required, but makes sense, given that we are interested in total power per day. We can achieve this easily using the resample() function on the Pandas DataFrame. Calling this function with the argument ‘D’ allows the loaded data indexed by date-time to be grouped by day (see all offset aliases). We can then calculate the sum of all observations for each day and create a new dataset of daily power consumption data for each of the eight variables. The complete example is listed below."
   ]
  },
  {
   "cell_type": "markdown",
   "id": "360f58cd",
   "metadata": {},
   "source": [
    "这种类型的模型可能有助于家庭规划支出。在供应方面，这也可能有助于规划特定家庭的电力需求。数据集的这种框架还表明，将每分钟的功耗观测值下采样为每日总计是有用的。这不是必需的，但这是有道理的，因为我们对每天的总功率感兴趣。我们可以使用 Pandas 数据帧上的 resample（） 函数轻松实现这一点。使用参数“D”调用此函数允许按日期时间索引的加载数据按天分组（请参阅所有偏移别名）。然后，我们可以计算每天所有观测值的总和，并为八个变量中的每一个创建一个新的每日功耗数据数据集。下面列出了完整的示例。"
   ]
  },
  {
   "cell_type": "code",
   "execution_count": 2,
   "id": "90abca99",
   "metadata": {},
   "outputs": [
    {
     "name": "stdout",
     "output_type": "stream",
     "text": [
      "(1442, 8)\n",
      "            Global_active_power  Global_reactive_power    Voltage  \\\n",
      "datetime                                                            \n",
      "2006-12-16             1209.176                 34.922   93552.53   \n",
      "2006-12-17             3390.460                226.006  345725.32   \n",
      "2006-12-18             2203.826                161.792  347373.64   \n",
      "2006-12-19             1666.194                150.942  348479.01   \n",
      "2006-12-20             2225.748                160.998  348923.61   \n",
      "\n",
      "            Global_intensity  Sub_metering_1  Sub_metering_2  Sub_metering_3  \\\n",
      "datetime                                                                       \n",
      "2006-12-16            5180.8             0.0           546.0          4926.0   \n",
      "2006-12-17           14398.6          2033.0          4187.0         13341.0   \n",
      "2006-12-18            9247.2          1063.0          2621.0         14018.0   \n",
      "2006-12-19            7094.0           839.0          7602.0          6197.0   \n",
      "2006-12-20            9313.0             0.0          2648.0         14063.0   \n",
      "\n",
      "            sub_metering_4  \n",
      "datetime                    \n",
      "2006-12-16    14680.933319  \n",
      "2006-12-17    36946.666732  \n",
      "2006-12-18    19028.433281  \n",
      "2006-12-19    13131.900043  \n",
      "2006-12-20    20384.800011  \n"
     ]
    }
   ],
   "source": [
    "# resample minute data to total for each day for the power usage dataset\n",
    "from pandas import read_csv\n",
    "# load the new file\n",
    "dataset = read_csv('household_power_consumption.csv', header=0, infer_datetime_format=True,\n",
    "                   parse_dates=['datetime'], index_col=['datetime']) \n",
    "# resample data to daily\n",
    "daily_groups = dataset.resample('D')\n",
    "daily_data = daily_groups.sum()\n",
    "# summarize\n",
    "print(daily_data.shape)\n",
    "print(daily_data.head())\n",
    "# save\n",
    "daily_data.to_csv('household_power_consumption_days.csv')"
   ]
  },
  {
   "cell_type": "markdown",
   "id": "f6661e5c",
   "metadata": {},
   "source": [
    "### 17.4.2 Evaluation Metric"
   ]
  },
  {
   "cell_type": "markdown",
   "id": "700ab77b",
   "metadata": {},
   "source": [
    "A forecast will be comprised of seven values, one for each day of the week ahead. It is common with multi-step forecasting problems to evaluate each forecasted time step separately. This is helpful for a few reasons:\n",
    "- To comment on the skill at a specific lead time (e.g. +1 day vs +3 days).\n",
    "- To contrast models based on their skills at different lead times (e.g. models good at +1\n",
    "day vs models good at days +5)."
   ]
  },
  {
   "cell_type": "markdown",
   "id": "e4863c81",
   "metadata": {},
   "source": [
    "预测将由七个值组成，一个值代表未来一周的每一天。对于多步骤预测问题，通常分别评估每个预测的时间步长。这很有帮助，原因如下：\n",
    "- 它在特定的提前期（例如 +1 天与 +3 天）对技能发表评论。\n",
    "- 原因在于根据模型在不同交货时间的技能对比模型（例如，模型擅长 +1天与模型在天+5）。"
   ]
  },
  {
   "cell_type": "code",
   "execution_count": 4,
   "id": "416d287f",
   "metadata": {},
   "outputs": [],
   "source": [
    "# evaluate one or more weekly forecasts against expected values\n",
    "def evaluate_forecasts(actual, predicted):\n",
    "    scores = list()\n",
    "    # calculate an RMSE score for each day\n",
    "    for i in range(actual.shape[1]):\n",
    "        # calculate mse\n",
    "        mse = mean_squared_error(actual[:, i], predicted[:, i])\n",
    "        # calculate rmse\n",
    "        rmse = sqrt(mse)\n",
    "        # store\n",
    "        scores.append(rmse)\n",
    "    # calculate overall RMSE\n",
    "    s=0\n",
    "    for row in range(actual.shape[0]):\n",
    "        for col in range(actual.shape[1]):\n",
    "            s += (actual[row, col] - predicted[row, col])**2\n",
    "    score = sqrt(s / (actual.shape[0] * actual.shape[1]))\n",
    "    return score, scores"
   ]
  },
  {
   "cell_type": "markdown",
   "id": "66bf74e1",
   "metadata": {},
   "source": [
    "### 17.4.3 Train and Test Sets"
   ]
  },
  {
   "cell_type": "markdown",
   "id": "15faa104",
   "metadata": {},
   "source": [
    "We will use the first **three years** of data for training predictive models and **the final year** for evaluating models. The data in a given dataset will be divided into standard weeks. These are weeks that begin on a Sunday and end on a Saturday. "
   ]
  },
  {
   "cell_type": "code",
   "execution_count": 5,
   "id": "f4242ea6",
   "metadata": {},
   "outputs": [
    {
     "name": "stdout",
     "output_type": "stream",
     "text": [
      "(159, 7, 8)\n",
      "3390.46 1309.2679999999998\n",
      "(46, 7, 8)\n",
      "2083.453999999999 2197.006000000004\n"
     ]
    }
   ],
   "source": [
    "# split the power usage dataset into standard weeks\n",
    "from numpy import split\n",
    "from numpy import array\n",
    "from pandas import read_csv\n",
    "# split a univariate dataset into train/test sets\n",
    "def split_dataset(data):\n",
    "    # split into standard weeks\n",
    "    train, test = data[1:-328], data[-328:-6]\n",
    "    # restructure into windows of weekly data\n",
    "    train = array(split(train, len(train)/7))\n",
    "    test = array(split(test, len(test)/7))\n",
    "    return train, test\n",
    "# load the new file\n",
    "dataset = read_csv('household_power_consumption_days.csv', header=0, infer_datetime_format=True, parse_dates=['datetime'], index_col=['datetime'])\n",
    "train, test = split_dataset(dataset.values)\n",
    "# validate train data\n",
    "print(train.shape)\n",
    "print(train[0, 0, 0], train[-1, -1, 0])\n",
    "# validate test\n",
    "print(test.shape)\n",
    "print(test[0, 0, 0], test[-1, -1, 0])"
   ]
  },
  {
   "cell_type": "markdown",
   "id": "f60318ae",
   "metadata": {},
   "source": [
    "### 17.4.4 Walk-Forward Validation"
   ]
  },
  {
   "cell_type": "markdown",
   "id": "db93716b",
   "metadata": {},
   "source": [
    "Models will be evaluated using a scheme called walk-forward validation. This is where a model is required to make a one week prediction, then the actual data for that week is made available to the model so that it can be used as the basis for making a prediction on the subsequent week. This is both realistic for how the model may be used in practice and beneficial to the models allowing them to make use of the best available data. We can demonstrate this below with separation of input data and output/predicted data."
   ]
  },
  {
   "cell_type": "markdown",
   "id": "501410f0",
   "metadata": {},
   "source": [
    "将使用称为前行验证的方案评估模型。这是需要模型进行一周预测的地方，然后将该周的实际数据提供给模型，以便可以将其用作对随后一周进行预测的基础。这对于如何在实践中使用模型既是现实的，又有利于模型，使他们能够利用最佳可用数据。我们可以在下面通过分离输入数据和输出/预测数据来演示这一点。"
   ]
  },
  {
   "cell_type": "markdown",
   "id": "f5f09c2e",
   "metadata": {},
   "source": [
    "|Input,|Predict|\n",
    "|:---|:---:|\n",
    "|[Week1]|Week2|\n",
    "|[Week1 + Week2]|Week3|\n",
    "|[Week1 + Week2 + Week3]|Week4|\n",
    "|...|...|"
   ]
  },
  {
   "cell_type": "code",
   "execution_count": 6,
   "id": "bf68211a",
   "metadata": {},
   "outputs": [],
   "source": [
    "# evaluate a single model\n",
    "def evaluate_model(model_func, train, test):\n",
    "    # history is a list of weekly data\n",
    "    history = [x for x in train]\n",
    "    # walk-forward validation over each week\n",
    "    predictions = list()\n",
    "    for i in range(len(test)):\n",
    "        # predict the week\n",
    "        yhat_sequence = model_func(history)\n",
    "        # store the predictions\n",
    "        predictions.append(yhat_sequence)\n",
    "        # get real observation and add to history for predicting the next week\n",
    "        history.append(test[i, :])\n",
    "    predictions = array(predictions)\n",
    "    # evaluate predictions days for each week\n",
    "    score, scores = evaluate_forecasts(test[:, :, 0], predictions)\n",
    "    return score, scores"
   ]
  },
  {
   "cell_type": "code",
   "execution_count": 8,
   "id": "b97f91b0",
   "metadata": {},
   "outputs": [],
   "source": [
    "# summarize scores\n",
    "def summarize_scores(name, score, scores):\n",
    "    s_scores = ', '.join(['%.1f' % s for s in scores]) \n",
    "    print('%s: [%.3f] %s' % (name, score, s_scores))"
   ]
  },
  {
   "cell_type": "markdown",
   "id": "5a106a4b",
   "metadata": {},
   "source": [
    "## 17.5 Develop Naive Forecast Models"
   ]
  },
  {
   "cell_type": "markdown",
   "id": "3f0ddd6a",
   "metadata": {},
   "source": [
    "In this section, we will develop and compare three naive forecast methods for the household power prediction problem; they are:\n",
    "    \n",
    "1. Daily Persistence Forecast.\n",
    "2. Weekly Persistent Forecast.\n",
    "3. Weekly One-Year-Ago Persistent Forecast."
   ]
  },
  {
   "cell_type": "markdown",
   "id": "cc6e0c14",
   "metadata": {},
   "source": [
    "### 17.5.1 Daily Persistence Forecast"
   ]
  },
  {
   "cell_type": "markdown",
   "id": "581129d3",
   "metadata": {},
   "source": [
    "The first naive forecast that we will develop is a daily persistence model. This model takes the active power from the last day prior to the forecast period (e.g. Saturday) and uses it as the value of the power for each day in the forecast period (Sunday to Saturday). The daily persistence() function below implements the daily persistence forecast strategy.\n",
    "我们将开发的第一个朴素预测是每日持久性模型。该模型从预测期前的最后一天（例如星期六）获取有功功率，并将其用作预测期（星期日至星期六）中每天的功率值。下面的每日持久性（）函数实现了每日持久性预测策略。"
   ]
  },
  {
   "cell_type": "code",
   "execution_count": 10,
   "id": "802198fb",
   "metadata": {},
   "outputs": [],
   "source": [
    "# daily persistence model\n",
    "def daily_persistence(history):\n",
    "    # get the data for the prior week\n",
    "    last_week = history[-1]\n",
    "    # get the total active power for the last day\n",
    "    value = last_week[-1, 0]\n",
    "    # prepare 7 day forecast\n",
    "    forecast = [value for _ in range(7)]\n",
    "    return forecast"
   ]
  },
  {
   "cell_type": "markdown",
   "id": "5cdbe64d",
   "metadata": {},
   "source": [
    "### 17.5.2 Weekly Persistent Forecast"
   ]
  },
  {
   "cell_type": "code",
   "execution_count": null,
   "id": "b0dbd434",
   "metadata": {},
   "outputs": [],
   "source": [
    "# weekly persistence model\n",
    "def weekly_persistence(history):\n",
    "    # get the data for the prior week\n",
    "    last_week = history[-1]\n",
    "    return last_week[:, 0]"
   ]
  },
  {
   "cell_type": "markdown",
   "id": "737e78b8",
   "metadata": {},
   "source": [
    "### 17.5.3 Weekly One-Year-Ago Persistent Forecast"
   ]
  },
  {
   "cell_type": "code",
   "execution_count": 12,
   "id": "0da4bdd2",
   "metadata": {},
   "outputs": [],
   "source": [
    "# week one year ago persistence model\n",
    "def week_one_year_ago_persistence(history):\n",
    "    # get the data for the prior week\n",
    "    last_week = history[-52]\n",
    "    return last_week[:, 0]"
   ]
  },
  {
   "cell_type": "markdown",
   "id": "371461f9",
   "metadata": {},
   "source": [
    "### 17.5.4 Naive Model Comparison"
   ]
  },
  {
   "cell_type": "code",
   "execution_count": 13,
   "id": "616c5909",
   "metadata": {},
   "outputs": [
    {
     "name": "stdout",
     "output_type": "stream",
     "text": [
      "daily: [511.886] 452.9, 596.4, 532.1, 490.5, 534.3, 481.5, 482.0\n",
      "weekly: [469.389] 567.6, 500.3, 411.2, 466.1, 471.9, 358.3, 482.0\n",
      "week-oya: [465.294] 550.0, 446.7, 398.6, 487.0, 459.3, 313.5, 555.1\n"
     ]
    },
    {
     "data": {
      "image/png": "[encoded data removed]",
      "text/plain": [
       "<Figure size 432x288 with 1 Axes>"
      ]
     },
     "metadata": {
      "needs_background": "light"
     },
     "output_type": "display_data"
    }
   ],
   "source": [
    "# naive forecast strategies for the power usage dataset\n",
    "from math import sqrt\n",
    "from numpy import split\n",
    "from numpy import array\n",
    "from pandas import read_csv\n",
    "from sklearn.metrics import mean_squared_error\n",
    "from matplotlib import pyplot\n",
    "\n",
    "# split a univariate dataset into train/test sets\n",
    "def split_dataset(data):\n",
    "    # split into standard weeks\n",
    "    train, test = data[1:-328], data[-328:-6]\n",
    "    # restructure into windows of weekly data\n",
    "    train = array(split(train, len(train)/7))\n",
    "    test = array(split(test, len(test)/7))\n",
    "    return train, test\n",
    "\n",
    "# evaluate one or more weekly forecasts against expected values\n",
    "def evaluate_forecasts(actual, predicted):\n",
    "    scores = list()\n",
    "    # calculate an RMSE score for each day\n",
    "    for i in range(actual.shape[1]):\n",
    "        # calculate mse\n",
    "        mse = mean_squared_error(actual[:, i], predicted[:, i])\n",
    "        # calculate rmse\n",
    "        rmse = sqrt(mse)\n",
    "        # store\n",
    "        scores.append(rmse)\n",
    "    # calculate overall RMSE\n",
    "    s=0\n",
    "    for row in range(actual.shape[0]):\n",
    "        for col in range(actual.shape[1]):\n",
    "            s += (actual[row, col] - predicted[row, col])**2\n",
    "    score = sqrt(s / (actual.shape[0] * actual.shape[1]))\n",
    "    return score, scores\n",
    "\n",
    "# summarize scores\n",
    "def summarize_scores(name, score, scores):\n",
    "    s_scores = ', '.join(['%.1f' % s for s in scores]) \n",
    "    print('%s: [%.3f] %s' % (name, score, s_scores))\n",
    "    \n",
    "# evaluate a single model\n",
    "def evaluate_model(model_func, train, test):\n",
    "    # history is a list of weekly data\n",
    "    history = [x for x in train]\n",
    "    # walk-forward validation over each week\n",
    "    predictions = list()\n",
    "    for i in range(len(test)):\n",
    "        # predict the week\n",
    "        yhat_sequence = model_func(history)\n",
    "        # store the predictions\n",
    "        predictions.append(yhat_sequence)\n",
    "        # get real observation and add to history for predicting the next week\n",
    "        history.append(test[i, :])\n",
    "    predictions = array(predictions)\n",
    "    # evaluate predictions days for each week\n",
    "    score, scores = evaluate_forecasts(test[:, :, 0], predictions)\n",
    "    return score, scores\n",
    "\n",
    "# daily persistence model\n",
    "def daily_persistence(history):\n",
    "    # get the data for the prior week\n",
    "    last_week = history[-1]\n",
    "    # get the total active power for the last day\n",
    "    value = last_week[-1, 0]\n",
    "    # prepare 7 day forecast\n",
    "    forecast = [value for _ in range(7)]\n",
    "    return forecast\n",
    "\n",
    "# weekly persistence model\n",
    "def weekly_persistence(history):\n",
    "    # get the data for the prior week\n",
    "    last_week = history[-1]\n",
    "    return last_week[:, 0]\n",
    "\n",
    "# week one year ago persistence model\n",
    "def week_one_year_ago_persistence(history):\n",
    "    # get the data for the prior week\n",
    "    last_week = history[-52]\n",
    "    return last_week[:, 0]\n",
    "\n",
    "if __name__ == '__main__':\n",
    "    # load the new file\n",
    "    dataset = read_csv('household_power_consumption_days.csv', header=0, infer_datetime_format=True, parse_dates=['datetime'], index_col=['datetime'])\n",
    "    # split into train and test\n",
    "    train, test = split_dataset(dataset.values)\n",
    "    # define the names and functions for the models we wish to evaluate\n",
    "    models = dict()\n",
    "    models['daily'] = daily_persistence\n",
    "    models['weekly'] = weekly_persistence\n",
    "    models['week-oya'] = week_one_year_ago_persistence\n",
    "    # evaluate each model\n",
    "    days = ['sun', 'mon', 'tue', 'wed', 'thr', 'fri', 'sat'] \n",
    "    for name, func in models.items():\n",
    "        # evaluate and get scores\n",
    "        score, scores = evaluate_model(func, train, test)\n",
    "        # summarize scores\n",
    "        summarize_scores(name, score, scores)\n",
    "        # plot scores\n",
    "        pyplot.plot(days, scores, marker='o', label=name) # show plot\n",
    "    pyplot.legend()\n",
    "    pyplot.show()"
   ]
  },
  {
   "cell_type": "code",
   "execution_count": 16,
   "id": "7a9c8fb0",
   "metadata": {},
   "outputs": [
    {
     "data": {
      "text/plain": [
       "(159, 7, 8)"
      ]
     },
     "execution_count": 16,
     "metadata": {},
     "output_type": "execute_result"
    }
   ],
   "source": [
    "import numpy as np\n",
    "np.shape(train)"
   ]
  },
  {
   "cell_type": "code",
   "execution_count": 17,
   "id": "db5f306f",
   "metadata": {},
   "outputs": [
    {
     "data": {
      "text/plain": [
       "(46, 7, 8)"
      ]
     },
     "execution_count": 17,
     "metadata": {},
     "output_type": "execute_result"
    }
   ],
   "source": [
    "np.shape(test)"
   ]
  },
  {
   "cell_type": "markdown",
   "id": "522f7a22",
   "metadata": {},
   "source": [
    "## 17.8 Summary\n",
    "In this tutorial, you discovered how to develop a test harness for the household power consumption dataset and evaluate three naive forecast strategies that provide a baseline for more sophisticated algorithms. Specifically, you learned:\n",
    "- How to load, prepare, and downsample the household power consumption dataset ready for modeling.\n",
    "- How to develop metrics, dataset split, and walk-forward validation elements for a robust test harness for evaluating forecasting models.\n",
    "- How to develop and evaluate and compare the performance a suite of naive persistence forecasting methods."
   ]
  },
  {
   "cell_type": "code",
   "execution_count": null,
   "id": "342a701f",
   "metadata": {},
   "outputs": [],
   "source": []
  }
 ],
 "metadata": {
  "kernelspec": {
   "display_name": "Python 3",
   "language": "python",
   "name": "python3"
  },
  "language_info": {
   "codemirror_mode": {
    "name": "ipython",
    "version": 3
   },
   "file_extension": ".py",
   "mimetype": "text/x-python",
   "name": "python",
   "nbconvert_exporter": "python",
   "pygments_lexer": "ipython3",
   "version": "3.8.8"
  }
 },
 "nbformat": 4,
 "nbformat_minor": 5
}
